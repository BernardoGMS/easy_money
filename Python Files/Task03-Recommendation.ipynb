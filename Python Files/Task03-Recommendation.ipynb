{
  "cells": [
    {
      "cell_type": "markdown",
      "id": "9f9e3b4b",
      "metadata": {},
      "source": [
        "<h1 style=\"font-size:60px;\" align=\"center\"> EASYMONEY CAPSTONE PROJECT <h1>"
      ]
    },
    {
      "cell_type": "markdown",
      "id": "22204344",
      "metadata": {},
      "source": [
        "<h2 style=\"font-size:50px;\" align=\"center\"> RECOMMENDATION <h2>"
      ]
    },
    {
      "cell_type": "markdown",
      "id": "5a968c9c-628b-42c6-b692-d88b2a1866f4",
      "metadata": {},
      "source": [
        "<h3 style=\"font-size:40px;\" align=\"justify\"> CONTENT <h3>\n",
        "\n",
        "<h4 style=\"font-size:30px;\"><b> A. CLUSTERING </b></h4>\n",
        "\n",
        "<div style=\"font-size:26px;\">\n",
        "    <ol>\n",
        "    <li>All customers</li>\n",
        "    <li>Low Salary Universitarios</li>\n",
        "    <li>High Salary Universitarios</li>\n",
        "    <li>Buyer Universitarios</li>\n",
        "    <li>Low Salary No Universitarios</li>\n",
        "    <li>High Salary No Universitarios</li>\n",
        "    <li>Saving Buyer No Universitarios</li>\n",
        "    <li>Financing Buyer No Universitarios</li>\n",
        "    <li>Overview</li>\n",
        "</ol>\n",
        "\n",
        "<h4 style=\"font-size:30px;\"><b> B. GRADIENT BOOSTING CLASSIFIER </b></h4>\n",
        "\n",
        "<div style=\"font-size:26px;\">\n",
        "    <ol>\n",
        "    <li>Targeting Each Product Type</li>\n",
        "    <ul>\n",
        "    <li>1.1 Printing expected sales</li>\n",
        "    <li>1.2 Printing expected revenues</li>\n",
        "    <li>1.3 Linear Programming to choose the recommendation customers based on revenue maximization</li>  \n",
        "    </ul>\n",
        "</ol>\n",
        "\n",
        "<h4 style=\"font-size:30px;\"><b> C. CONCLUSIONS </b></h4>\n",
        "\n",
        "</div>"
      ]
    },
    {
      "cell_type": "markdown",
      "id": "3872f4e8",
      "metadata": {},
      "source": [
        "## IMPORT LIBRARIES + DATASETS"
      ]
    },
    {
      "cell_type": "code",
      "execution_count": 43,
      "id": "9bbd1023",
      "metadata": {},
      "outputs": [],
      "source": [
        "import pandas as pd\n",
        "import numpy as np\n",
        "import warnings as ws\n",
        "import matplotlib.pyplot as plt\n",
        "\n",
        "ws.filterwarnings(\"ignore\")\n",
        "\n",
        "from sklearn import metrics \n",
        "from sklearn.model_selection import train_test_split\n",
        "\n",
        "recommentation_df = pd.read_csv(\"data/df_after_segmentation.csv\")\n",
        "recommentation_df = recommentation_df.rename(columns={\"Unnamed: 0\": \"id\"})"
      ]
    },
    {
      "cell_type": "markdown",
      "id": "2a8884c7",
      "metadata": {},
      "source": [
        "## PRINT HEAD FOR THE ENTITY"
      ]
    },
    {
      "cell_type": "code",
      "execution_count": 44,
      "id": "7f8103e9",
      "metadata": {},
      "outputs": [
        {
          "data": {
            "text/html": [
              "<div>\n",
              "<style scoped>\n",
              "    .dataframe tbody tr th:only-of-type {\n",
              "        vertical-align: middle;\n",
              "    }\n",
              "\n",
              "    .dataframe tbody tr th {\n",
              "        vertical-align: top;\n",
              "    }\n",
              "\n",
              "    .dataframe thead th {\n",
              "        text-align: right;\n",
              "    }\n",
              "</style>\n",
              "<table border=\"1\" class=\"dataframe\">\n",
              "  <thead>\n",
              "    <tr style=\"text-align: right;\">\n",
              "      <th></th>\n",
              "      <th>0</th>\n",
              "      <th>1</th>\n",
              "      <th>2</th>\n",
              "      <th>3</th>\n",
              "      <th>4</th>\n",
              "      <th>5</th>\n",
              "      <th>6</th>\n",
              "      <th>7</th>\n",
              "      <th>8</th>\n",
              "      <th>9</th>\n",
              "      <th>10</th>\n",
              "      <th>11</th>\n",
              "      <th>12</th>\n",
              "      <th>13</th>\n",
              "      <th>14</th>\n",
              "    </tr>\n",
              "  </thead>\n",
              "  <tbody>\n",
              "    <tr>\n",
              "      <th>pk_cid</th>\n",
              "      <td>1050611</td>\n",
              "      <td>1050611</td>\n",
              "      <td>1050611</td>\n",
              "      <td>1050611</td>\n",
              "      <td>1050611</td>\n",
              "      <td>1050611</td>\n",
              "      <td>1050611</td>\n",
              "      <td>1050611</td>\n",
              "      <td>1050611</td>\n",
              "      <td>1050611</td>\n",
              "      <td>1050611</td>\n",
              "      <td>1050611</td>\n",
              "      <td>1050611</td>\n",
              "      <td>1050611</td>\n",
              "      <td>1050611</td>\n",
              "    </tr>\n",
              "    <tr>\n",
              "      <th>pk_partition</th>\n",
              "      <td>2018-01-28</td>\n",
              "      <td>2018-02-28</td>\n",
              "      <td>2018-03-28</td>\n",
              "      <td>2018-04-28</td>\n",
              "      <td>2018-05-28</td>\n",
              "      <td>2018-06-28</td>\n",
              "      <td>2018-07-28</td>\n",
              "      <td>2018-08-28</td>\n",
              "      <td>2018-09-28</td>\n",
              "      <td>2018-10-28</td>\n",
              "      <td>2018-11-28</td>\n",
              "      <td>2018-12-28</td>\n",
              "      <td>2019-01-28</td>\n",
              "      <td>2019-02-28</td>\n",
              "      <td>2019-03-28</td>\n",
              "    </tr>\n",
              "    <tr>\n",
              "      <th>entry_date</th>\n",
              "      <td>2015-08-10</td>\n",
              "      <td>2015-08-10</td>\n",
              "      <td>2015-08-10</td>\n",
              "      <td>2015-08-10</td>\n",
              "      <td>2015-08-10</td>\n",
              "      <td>2015-08-10</td>\n",
              "      <td>2015-08-10</td>\n",
              "      <td>2015-08-10</td>\n",
              "      <td>2015-08-10</td>\n",
              "      <td>2015-08-10</td>\n",
              "      <td>2015-08-10</td>\n",
              "      <td>2015-08-10</td>\n",
              "      <td>2015-08-10</td>\n",
              "      <td>2015-08-10</td>\n",
              "      <td>2015-08-10</td>\n",
              "    </tr>\n",
              "    <tr>\n",
              "      <th>entry_channel</th>\n",
              "      <td>KHE</td>\n",
              "      <td>KHE</td>\n",
              "      <td>KHE</td>\n",
              "      <td>KHE</td>\n",
              "      <td>KHE</td>\n",
              "      <td>KHE</td>\n",
              "      <td>KHE</td>\n",
              "      <td>KHE</td>\n",
              "      <td>KHE</td>\n",
              "      <td>KHE</td>\n",
              "      <td>KHE</td>\n",
              "      <td>KHE</td>\n",
              "      <td>KHE</td>\n",
              "      <td>KHE</td>\n",
              "      <td>KHE</td>\n",
              "    </tr>\n",
              "    <tr>\n",
              "      <th>active_customer</th>\n",
              "      <td>0.0</td>\n",
              "      <td>0.0</td>\n",
              "      <td>0.0</td>\n",
              "      <td>0.0</td>\n",
              "      <td>0.0</td>\n",
              "      <td>0.0</td>\n",
              "      <td>0.0</td>\n",
              "      <td>0.0</td>\n",
              "      <td>0.0</td>\n",
              "      <td>0.0</td>\n",
              "      <td>0.0</td>\n",
              "      <td>0.0</td>\n",
              "      <td>0.0</td>\n",
              "      <td>0.0</td>\n",
              "      <td>0.0</td>\n",
              "    </tr>\n",
              "    <tr>\n",
              "      <th>...</th>\n",
              "      <td>...</td>\n",
              "      <td>...</td>\n",
              "      <td>...</td>\n",
              "      <td>...</td>\n",
              "      <td>...</td>\n",
              "      <td>...</td>\n",
              "      <td>...</td>\n",
              "      <td>...</td>\n",
              "      <td>...</td>\n",
              "      <td>...</td>\n",
              "      <td>...</td>\n",
              "      <td>...</td>\n",
              "      <td>...</td>\n",
              "      <td>...</td>\n",
              "      <td>...</td>\n",
              "    </tr>\n",
              "    <tr>\n",
              "      <th>savings_churn</th>\n",
              "      <td>0</td>\n",
              "      <td>0</td>\n",
              "      <td>0</td>\n",
              "      <td>0</td>\n",
              "      <td>0</td>\n",
              "      <td>0</td>\n",
              "      <td>0</td>\n",
              "      <td>0</td>\n",
              "      <td>0</td>\n",
              "      <td>0</td>\n",
              "      <td>0</td>\n",
              "      <td>0</td>\n",
              "      <td>0</td>\n",
              "      <td>0</td>\n",
              "      <td>0</td>\n",
              "    </tr>\n",
              "    <tr>\n",
              "      <th>financing_churn</th>\n",
              "      <td>0</td>\n",
              "      <td>0</td>\n",
              "      <td>0</td>\n",
              "      <td>0</td>\n",
              "      <td>0</td>\n",
              "      <td>0</td>\n",
              "      <td>0</td>\n",
              "      <td>0</td>\n",
              "      <td>0</td>\n",
              "      <td>0</td>\n",
              "      <td>0</td>\n",
              "      <td>0</td>\n",
              "      <td>0</td>\n",
              "      <td>0</td>\n",
              "      <td>0</td>\n",
              "    </tr>\n",
              "    <tr>\n",
              "      <th>invesment_churn</th>\n",
              "      <td>0</td>\n",
              "      <td>0</td>\n",
              "      <td>0</td>\n",
              "      <td>0</td>\n",
              "      <td>0</td>\n",
              "      <td>0</td>\n",
              "      <td>0</td>\n",
              "      <td>0</td>\n",
              "      <td>0</td>\n",
              "      <td>0</td>\n",
              "      <td>0</td>\n",
              "      <td>0</td>\n",
              "      <td>0</td>\n",
              "      <td>0</td>\n",
              "      <td>0</td>\n",
              "    </tr>\n",
              "    <tr>\n",
              "      <th>account_type_churn</th>\n",
              "      <td>0</td>\n",
              "      <td>0</td>\n",
              "      <td>0</td>\n",
              "      <td>0</td>\n",
              "      <td>0</td>\n",
              "      <td>0</td>\n",
              "      <td>0</td>\n",
              "      <td>0</td>\n",
              "      <td>0</td>\n",
              "      <td>0</td>\n",
              "      <td>0</td>\n",
              "      <td>0</td>\n",
              "      <td>0</td>\n",
              "      <td>0</td>\n",
              "      <td>0</td>\n",
              "    </tr>\n",
              "    <tr>\n",
              "      <th>Segment Customer</th>\n",
              "      <td>Low Salary Universitario</td>\n",
              "      <td>Low Salary Universitario</td>\n",
              "      <td>Low Salary Universitario</td>\n",
              "      <td>Low Salary Universitario</td>\n",
              "      <td>Low Salary Universitario</td>\n",
              "      <td>Low Salary Universitario</td>\n",
              "      <td>Low Salary Universitario</td>\n",
              "      <td>Low Salary Universitario</td>\n",
              "      <td>Low Salary Universitario</td>\n",
              "      <td>Low Salary Universitario</td>\n",
              "      <td>Low Salary Universitario</td>\n",
              "      <td>Low Salary Universitario</td>\n",
              "      <td>Low Salary Universitario</td>\n",
              "      <td>Low Salary Universitario</td>\n",
              "      <td>Low Salary Universitario</td>\n",
              "    </tr>\n",
              "  </tbody>\n",
              "</table>\n",
              "<p>73 rows × 15 columns</p>\n",
              "</div>"
            ],
            "text/plain": [
              "                                          0                         1   \\\n",
              "pk_cid                               1050611                   1050611   \n",
              "pk_partition                      2018-01-28                2018-02-28   \n",
              "entry_date                        2015-08-10                2015-08-10   \n",
              "entry_channel                            KHE                       KHE   \n",
              "active_customer                          0.0                       0.0   \n",
              "...                                      ...                       ...   \n",
              "savings_churn                              0                         0   \n",
              "financing_churn                            0                         0   \n",
              "invesment_churn                            0                         0   \n",
              "account_type_churn                         0                         0   \n",
              "Segment Customer    Low Salary Universitario  Low Salary Universitario   \n",
              "\n",
              "                                          2                         3   \\\n",
              "pk_cid                               1050611                   1050611   \n",
              "pk_partition                      2018-03-28                2018-04-28   \n",
              "entry_date                        2015-08-10                2015-08-10   \n",
              "entry_channel                            KHE                       KHE   \n",
              "active_customer                          0.0                       0.0   \n",
              "...                                      ...                       ...   \n",
              "savings_churn                              0                         0   \n",
              "financing_churn                            0                         0   \n",
              "invesment_churn                            0                         0   \n",
              "account_type_churn                         0                         0   \n",
              "Segment Customer    Low Salary Universitario  Low Salary Universitario   \n",
              "\n",
              "                                          4                         5   \\\n",
              "pk_cid                               1050611                   1050611   \n",
              "pk_partition                      2018-05-28                2018-06-28   \n",
              "entry_date                        2015-08-10                2015-08-10   \n",
              "entry_channel                            KHE                       KHE   \n",
              "active_customer                          0.0                       0.0   \n",
              "...                                      ...                       ...   \n",
              "savings_churn                              0                         0   \n",
              "financing_churn                            0                         0   \n",
              "invesment_churn                            0                         0   \n",
              "account_type_churn                         0                         0   \n",
              "Segment Customer    Low Salary Universitario  Low Salary Universitario   \n",
              "\n",
              "                                          6                         7   \\\n",
              "pk_cid                               1050611                   1050611   \n",
              "pk_partition                      2018-07-28                2018-08-28   \n",
              "entry_date                        2015-08-10                2015-08-10   \n",
              "entry_channel                            KHE                       KHE   \n",
              "active_customer                          0.0                       0.0   \n",
              "...                                      ...                       ...   \n",
              "savings_churn                              0                         0   \n",
              "financing_churn                            0                         0   \n",
              "invesment_churn                            0                         0   \n",
              "account_type_churn                         0                         0   \n",
              "Segment Customer    Low Salary Universitario  Low Salary Universitario   \n",
              "\n",
              "                                          8                         9   \\\n",
              "pk_cid                               1050611                   1050611   \n",
              "pk_partition                      2018-09-28                2018-10-28   \n",
              "entry_date                        2015-08-10                2015-08-10   \n",
              "entry_channel                            KHE                       KHE   \n",
              "active_customer                          0.0                       0.0   \n",
              "...                                      ...                       ...   \n",
              "savings_churn                              0                         0   \n",
              "financing_churn                            0                         0   \n",
              "invesment_churn                            0                         0   \n",
              "account_type_churn                         0                         0   \n",
              "Segment Customer    Low Salary Universitario  Low Salary Universitario   \n",
              "\n",
              "                                          10                        11  \\\n",
              "pk_cid                               1050611                   1050611   \n",
              "pk_partition                      2018-11-28                2018-12-28   \n",
              "entry_date                        2015-08-10                2015-08-10   \n",
              "entry_channel                            KHE                       KHE   \n",
              "active_customer                          0.0                       0.0   \n",
              "...                                      ...                       ...   \n",
              "savings_churn                              0                         0   \n",
              "financing_churn                            0                         0   \n",
              "invesment_churn                            0                         0   \n",
              "account_type_churn                         0                         0   \n",
              "Segment Customer    Low Salary Universitario  Low Salary Universitario   \n",
              "\n",
              "                                          12                        13  \\\n",
              "pk_cid                               1050611                   1050611   \n",
              "pk_partition                      2019-01-28                2019-02-28   \n",
              "entry_date                        2015-08-10                2015-08-10   \n",
              "entry_channel                            KHE                       KHE   \n",
              "active_customer                          0.0                       0.0   \n",
              "...                                      ...                       ...   \n",
              "savings_churn                              0                         0   \n",
              "financing_churn                            0                         0   \n",
              "invesment_churn                            0                         0   \n",
              "account_type_churn                         0                         0   \n",
              "Segment Customer    Low Salary Universitario  Low Salary Universitario   \n",
              "\n",
              "                                          14  \n",
              "pk_cid                               1050611  \n",
              "pk_partition                      2019-03-28  \n",
              "entry_date                        2015-08-10  \n",
              "entry_channel                            KHE  \n",
              "active_customer                          0.0  \n",
              "...                                      ...  \n",
              "savings_churn                              0  \n",
              "financing_churn                            0  \n",
              "invesment_churn                            0  \n",
              "account_type_churn                         0  \n",
              "Segment Customer    Low Salary Universitario  \n",
              "\n",
              "[73 rows x 15 columns]"
            ]
          },
          "execution_count": 44,
          "metadata": {},
          "output_type": "execute_result"
        }
      ],
      "source": [
        "recommentation_df.head(15).T"
      ]
    },
    {
      "cell_type": "code",
      "execution_count": 45,
      "id": "ca3042c4",
      "metadata": {},
      "outputs": [
        {
          "data": {
            "text/plain": [
              "Index(['pk_cid', 'pk_partition', 'entry_date', 'entry_channel',\n",
              "       'active_customer', 'short_term_deposit', 'loans', 'mortgage', 'funds',\n",
              "       'securities', 'long_term_deposit', 'em_account_pp', 'credit_card',\n",
              "       'payroll', 'pension_plan', 'payroll_account', 'emc_account',\n",
              "       'debit_card', 'em_account_p', 'em_acount', 'country_id', 'region_code',\n",
              "       'gender', 'age', 'deceased', 'salary', 'salary_unknown', 'Age_group',\n",
              "       'new_customer', 'sale_short_term_deposit', 'sale_loans',\n",
              "       'sale_mortgage', 'sale_funds', 'sale_securities',\n",
              "       'sale_long_term_deposit', 'sale_credit_card', 'sale_payroll',\n",
              "       'sale_pension_plan', 'sale_payroll_account', 'sale_emc_account',\n",
              "       'sale_debit_card', 'sale_em_account_p', 'sale_em_acount', 'churn_loans',\n",
              "       'churn_short_term_deposit', 'churn_mortgage', 'churn_funds',\n",
              "       'churn_securities', 'churn_long_term_deposit', 'churn_credit_card',\n",
              "       'churn_payroll', 'churn_pension_plan', 'churn_payroll_account',\n",
              "       'churn_emc_account', 'churn_debit_card', 'churn_em_account_p',\n",
              "       'churn_em_acount', 'entry_counting', 'segment_', 'salary_level',\n",
              "       'total_sales', 'total_churns', 'entry_date_month', 'entry_date_year',\n",
              "       'savings_sold', 'financing_sold', 'invesment_sold', 'account_type_sold',\n",
              "       'savings_churn', 'financing_churn', 'invesment_churn',\n",
              "       'account_type_churn', 'Segment Customer'],\n",
              "      dtype='object')"
            ]
          },
          "execution_count": 45,
          "metadata": {},
          "output_type": "execute_result"
        }
      ],
      "source": [
        "recommentation_df.columns"
      ]
    },
    {
      "cell_type": "code",
      "execution_count": 46,
      "id": "174c1e5b",
      "metadata": {},
      "outputs": [],
      "source": [
        "recommentation_df[\"entry_date\"]=pd.to_datetime(recommentation_df[\"entry_date\"],format='%Y-%m-%d')\n",
        "recommentation_df[\"pk_partition\"]=pd.to_datetime(recommentation_df[\"pk_partition\"],format='%Y-%m-%d')"
      ]
    },
    {
      "cell_type": "code",
      "execution_count": 47,
      "id": "645c6b0c",
      "metadata": {},
      "outputs": [],
      "source": [
        "recommentation_sales_df=recommentation_df[['pk_cid',\n",
        "       'active_customer', 'age', 'salary',\n",
        "       'new_customer', 'sale_short_term_deposit', 'sale_loans',\n",
        "       'sale_mortgage', 'sale_funds', 'sale_securities',\n",
        "       'sale_long_term_deposit', 'sale_credit_card', 'sale_payroll',\n",
        "       'sale_pension_plan', 'sale_payroll_account', 'sale_emc_account',\n",
        "       'sale_debit_card', 'sale_em_account_p', 'sale_em_acount', 'segment_', 'salary_level',\n",
        "       'total_sales', 'savings_sold', 'financing_sold', 'invesment_sold', 'account_type_sold', 'Segment Customer']]"
      ]
    },
    {
      "cell_type": "code",
      "execution_count": 48,
      "id": "379418f6",
      "metadata": {},
      "outputs": [
        {
          "data": {
            "text/html": [
              "<div>\n",
              "<style scoped>\n",
              "    .dataframe tbody tr th:only-of-type {\n",
              "        vertical-align: middle;\n",
              "    }\n",
              "\n",
              "    .dataframe tbody tr th {\n",
              "        vertical-align: top;\n",
              "    }\n",
              "\n",
              "    .dataframe thead th {\n",
              "        text-align: right;\n",
              "    }\n",
              "</style>\n",
              "<table border=\"1\" class=\"dataframe\">\n",
              "  <thead>\n",
              "    <tr style=\"text-align: right;\">\n",
              "      <th></th>\n",
              "      <th>pk_cid</th>\n",
              "      <th>savings_sold</th>\n",
              "      <th>financing_sold</th>\n",
              "      <th>invesment_sold</th>\n",
              "      <th>account_type_sold</th>\n",
              "    </tr>\n",
              "  </thead>\n",
              "  <tbody>\n",
              "    <tr>\n",
              "      <th>0</th>\n",
              "      <td>1050611</td>\n",
              "      <td>0</td>\n",
              "      <td>0</td>\n",
              "      <td>0</td>\n",
              "      <td>1</td>\n",
              "    </tr>\n",
              "    <tr>\n",
              "      <th>1</th>\n",
              "      <td>1050611</td>\n",
              "      <td>0</td>\n",
              "      <td>0</td>\n",
              "      <td>0</td>\n",
              "      <td>0</td>\n",
              "    </tr>\n",
              "    <tr>\n",
              "      <th>2</th>\n",
              "      <td>1050611</td>\n",
              "      <td>0</td>\n",
              "      <td>0</td>\n",
              "      <td>0</td>\n",
              "      <td>0</td>\n",
              "    </tr>\n",
              "    <tr>\n",
              "      <th>3</th>\n",
              "      <td>1050611</td>\n",
              "      <td>0</td>\n",
              "      <td>0</td>\n",
              "      <td>0</td>\n",
              "      <td>0</td>\n",
              "    </tr>\n",
              "    <tr>\n",
              "      <th>4</th>\n",
              "      <td>1050611</td>\n",
              "      <td>0</td>\n",
              "      <td>0</td>\n",
              "      <td>0</td>\n",
              "      <td>0</td>\n",
              "    </tr>\n",
              "    <tr>\n",
              "      <th>...</th>\n",
              "      <td>...</td>\n",
              "      <td>...</td>\n",
              "      <td>...</td>\n",
              "      <td>...</td>\n",
              "      <td>...</td>\n",
              "    </tr>\n",
              "    <tr>\n",
              "      <th>5962919</th>\n",
              "      <td>1185013</td>\n",
              "      <td>0</td>\n",
              "      <td>0</td>\n",
              "      <td>0</td>\n",
              "      <td>1</td>\n",
              "    </tr>\n",
              "    <tr>\n",
              "      <th>5962920</th>\n",
              "      <td>1168909</td>\n",
              "      <td>0</td>\n",
              "      <td>0</td>\n",
              "      <td>0</td>\n",
              "      <td>1</td>\n",
              "    </tr>\n",
              "    <tr>\n",
              "      <th>5962921</th>\n",
              "      <td>1173729</td>\n",
              "      <td>0</td>\n",
              "      <td>0</td>\n",
              "      <td>0</td>\n",
              "      <td>1</td>\n",
              "    </tr>\n",
              "    <tr>\n",
              "      <th>5962922</th>\n",
              "      <td>1164094</td>\n",
              "      <td>0</td>\n",
              "      <td>0</td>\n",
              "      <td>0</td>\n",
              "      <td>1</td>\n",
              "    </tr>\n",
              "    <tr>\n",
              "      <th>5962923</th>\n",
              "      <td>1550586</td>\n",
              "      <td>0</td>\n",
              "      <td>0</td>\n",
              "      <td>0</td>\n",
              "      <td>1</td>\n",
              "    </tr>\n",
              "  </tbody>\n",
              "</table>\n",
              "<p>5962924 rows × 5 columns</p>\n",
              "</div>"
            ],
            "text/plain": [
              "          pk_cid  savings_sold  financing_sold  invesment_sold  \\\n",
              "0        1050611             0               0               0   \n",
              "1        1050611             0               0               0   \n",
              "2        1050611             0               0               0   \n",
              "3        1050611             0               0               0   \n",
              "4        1050611             0               0               0   \n",
              "...          ...           ...             ...             ...   \n",
              "5962919  1185013             0               0               0   \n",
              "5962920  1168909             0               0               0   \n",
              "5962921  1173729             0               0               0   \n",
              "5962922  1164094             0               0               0   \n",
              "5962923  1550586             0               0               0   \n",
              "\n",
              "         account_type_sold  \n",
              "0                        1  \n",
              "1                        0  \n",
              "2                        0  \n",
              "3                        0  \n",
              "4                        0  \n",
              "...                    ...  \n",
              "5962919                  1  \n",
              "5962920                  1  \n",
              "5962921                  1  \n",
              "5962922                  1  \n",
              "5962923                  1  \n",
              "\n",
              "[5962924 rows x 5 columns]"
            ]
          },
          "execution_count": 48,
          "metadata": {},
          "output_type": "execute_result"
        }
      ],
      "source": [
        "recommentation_sales_df[[\"pk_cid\",'savings_sold', 'financing_sold', 'invesment_sold', 'account_type_sold']]"
      ]
    },
    {
      "cell_type": "markdown",
      "id": "ce5d7e93",
      "metadata": {},
      "source": [
        "__________________\n",
        "# A. ANALYSIS OF LAST YEARS RENEVUE\n",
        "__________________"
      ]
    },
    {
      "cell_type": "markdown",
      "id": "aed9ecc6",
      "metadata": {},
      "source": [
        "According to our Direct Marketing Director, the estimated revenue of each product type is mentioned below:"
      ]
    },
    {
      "cell_type": "code",
      "execution_count": 49,
      "id": "6bbbacca",
      "metadata": {},
      "outputs": [
        {
          "data": {
            "text/html": [
              "<div>\n",
              "<style scoped>\n",
              "    .dataframe tbody tr th:only-of-type {\n",
              "        vertical-align: middle;\n",
              "    }\n",
              "\n",
              "    .dataframe tbody tr th {\n",
              "        vertical-align: top;\n",
              "    }\n",
              "\n",
              "    .dataframe thead th {\n",
              "        text-align: right;\n",
              "    }\n",
              "</style>\n",
              "<table border=\"1\" class=\"dataframe\">\n",
              "  <thead>\n",
              "    <tr style=\"text-align: right;\">\n",
              "      <th></th>\n",
              "      <th>Revenue</th>\n",
              "    </tr>\n",
              "  </thead>\n",
              "  <tbody>\n",
              "    <tr>\n",
              "      <th>Savings</th>\n",
              "      <td>40</td>\n",
              "    </tr>\n",
              "    <tr>\n",
              "      <th>Financing</th>\n",
              "      <td>60</td>\n",
              "    </tr>\n",
              "    <tr>\n",
              "      <th>Investment</th>\n",
              "      <td>40</td>\n",
              "    </tr>\n",
              "    <tr>\n",
              "      <th>Account Type</th>\n",
              "      <td>10</td>\n",
              "    </tr>\n",
              "  </tbody>\n",
              "</table>\n",
              "</div>"
            ],
            "text/plain": [
              "             Revenue\n",
              "Savings           40\n",
              "Financing         60\n",
              "Investment        40\n",
              "Account Type      10"
            ]
          },
          "execution_count": 49,
          "metadata": {},
          "output_type": "execute_result"
        }
      ],
      "source": [
        "revenues=pd.DataFrame(index=[\"Savings\",\"Financing\",\"Investment\",\"Account Type\"], columns=[\"Revenue\"])\n",
        "revenues.at[\"Savings\",\"Revenue\"]=40\n",
        "revenues.at[\"Financing\",\"Revenue\"]=60\n",
        "revenues.at[\"Investment\",\"Revenue\"]=40\n",
        "revenues.at[\"Account Type\",\"Revenue\"]=10\n",
        "revenues"
      ]
    },
    {
      "cell_type": "markdown",
      "id": "a608301d",
      "metadata": {},
      "source": [
        "## 1. All customers"
      ]
    },
    {
      "cell_type": "markdown",
      "id": "74c1a109",
      "metadata": {},
      "source": [
        "Let's take a look on the general revenue earned for the sales of each type of products."
      ]
    },
    {
      "cell_type": "code",
      "execution_count": 50,
      "id": "33618aa2",
      "metadata": {},
      "outputs": [],
      "source": [
        "products_sales=['savings_sold','financing_sold','invesment_sold','account_type_sold']"
      ]
    },
    {
      "cell_type": "code",
      "execution_count": 51,
      "id": "15eed278",
      "metadata": {},
      "outputs": [
        {
          "data": {
            "text/html": [
              "<div>\n",
              "<style scoped>\n",
              "    .dataframe tbody tr th:only-of-type {\n",
              "        vertical-align: middle;\n",
              "    }\n",
              "\n",
              "    .dataframe tbody tr th {\n",
              "        vertical-align: top;\n",
              "    }\n",
              "\n",
              "    .dataframe thead th {\n",
              "        text-align: right;\n",
              "    }\n",
              "</style>\n",
              "<table border=\"1\" class=\"dataframe\">\n",
              "  <thead>\n",
              "    <tr style=\"text-align: right;\">\n",
              "      <th></th>\n",
              "      <th>Total Revenue</th>\n",
              "      <th>Percentage (Revenue)</th>\n",
              "      <th>Total Sales</th>\n",
              "      <th>Percentage (Sales)</th>\n",
              "    </tr>\n",
              "  </thead>\n",
              "  <tbody>\n",
              "    <tr>\n",
              "      <th>Savings</th>\n",
              "      <td>2456440</td>\n",
              "      <td>27.8</td>\n",
              "      <td>61411</td>\n",
              "      <td>9.7</td>\n",
              "    </tr>\n",
              "    <tr>\n",
              "      <th>Financing</th>\n",
              "      <td>236940</td>\n",
              "      <td>2.7</td>\n",
              "      <td>3949</td>\n",
              "      <td>0.6</td>\n",
              "    </tr>\n",
              "    <tr>\n",
              "      <th>Investment</th>\n",
              "      <td>582400</td>\n",
              "      <td>6.6</td>\n",
              "      <td>14560</td>\n",
              "      <td>2.3</td>\n",
              "    </tr>\n",
              "    <tr>\n",
              "      <th>Account Type</th>\n",
              "      <td>5553300</td>\n",
              "      <td>62.9</td>\n",
              "      <td>555330</td>\n",
              "      <td>87.4</td>\n",
              "    </tr>\n",
              "    <tr>\n",
              "      <th>All Products</th>\n",
              "      <td>8829080</td>\n",
              "      <td>100.0</td>\n",
              "      <td>635250</td>\n",
              "      <td>100.0</td>\n",
              "    </tr>\n",
              "  </tbody>\n",
              "</table>\n",
              "</div>"
            ],
            "text/plain": [
              "             Total Revenue Percentage (Revenue) Total Sales Percentage (Sales)\n",
              "Savings            2456440                 27.8       61411                9.7\n",
              "Financing           236940                  2.7        3949                0.6\n",
              "Investment          582400                  6.6       14560                2.3\n",
              "Account Type       5553300                 62.9      555330               87.4\n",
              "All Products       8829080                100.0      635250              100.0"
            ]
          },
          "execution_count": 51,
          "metadata": {},
          "output_type": "execute_result"
        }
      ],
      "source": [
        "revenues_all=pd.DataFrame(index=[\"Savings\",\"Financing\",\"Investment\",\"Account Type\",\"All Products\"], columns=[\"Total Revenue\",\"Percentage (Revenue)\",\"Total Sales\",\"Percentage (Sales)\"])\n",
        "\n",
        "revenues_all.at[\"Savings\",\"Total Revenue\"]=recommentation_sales_df[[products_sales[0]]].sum().values[0]*revenues.loc[\"Savings\",\"Revenue\"]\n",
        "revenues_all.at[\"Financing\",\"Total Revenue\"]=recommentation_sales_df[[products_sales[1]]].sum().values[0]*revenues.loc[\"Financing\",\"Revenue\"]\n",
        "revenues_all.at[\"Investment\",\"Total Revenue\"]=recommentation_sales_df[[products_sales[2]]].sum().values[0]*revenues.loc[\"Investment\",\"Revenue\"]\n",
        "revenues_all.at[\"Account Type\",\"Total Revenue\"]=recommentation_sales_df[[products_sales[3]]].sum().values[0]*revenues.loc[\"Account Type\",\"Revenue\"]\n",
        "revenues_all.at[\"All Products\",\"Total Revenue\"]=revenues_all[\"Total Revenue\"].sum()\n",
        "\n",
        "revenues_all.at[\"Savings\",\"Percentage (Revenue)\"]=round(revenues_all.loc[\"Savings\",\"Total Revenue\"]/revenues_all.loc[\"All Products\",\"Total Revenue\"]*100,1)\n",
        "revenues_all.at[\"Financing\",\"Percentage (Revenue)\"]=round(revenues_all.loc[\"Financing\",\"Total Revenue\"]/revenues_all.loc[\"All Products\",\"Total Revenue\"]*100,1)\n",
        "revenues_all.at[\"Investment\",\"Percentage (Revenue)\"]=round(revenues_all.loc[\"Investment\",\"Total Revenue\"]/revenues_all.loc[\"All Products\",\"Total Revenue\"]*100,1)\n",
        "revenues_all.at[\"Account Type\",\"Percentage (Revenue)\"]=round(revenues_all.loc[\"Account Type\",\"Total Revenue\"]/revenues_all.loc[\"All Products\",\"Total Revenue\"]*100,1)\n",
        "revenues_all.at[\"All Products\",\"Percentage (Revenue)\"]=revenues_all[\"Percentage (Revenue)\"].sum()\n",
        "\n",
        "revenues_all.at[\"Savings\",\"Total Sales\"]=recommentation_sales_df[[products_sales[0]]].sum().values[0]\n",
        "revenues_all.at[\"Financing\",\"Total Sales\"]=recommentation_sales_df[[products_sales[1]]].sum().values[0]\n",
        "revenues_all.at[\"Investment\",\"Total Sales\"]=recommentation_sales_df[[products_sales[2]]].sum().values[0]\n",
        "revenues_all.at[\"Account Type\",\"Total Sales\"]=recommentation_sales_df[[products_sales[3]]].sum().values[0]\n",
        "revenues_all.at[\"All Products\",\"Total Sales\"]=revenues_all[\"Total Sales\"].sum()\n",
        "\n",
        "revenues_all.at[\"Savings\",\"Percentage (Sales)\"]=round(recommentation_sales_df[[products_sales[0]]].sum().values[0]/revenues_all.loc[\"All Products\",\"Total Sales\"]*100,1)\n",
        "revenues_all.at[\"Financing\",\"Percentage (Sales)\"]=round(recommentation_sales_df[[products_sales[1]]].sum().values[0]/revenues_all.loc[\"All Products\",\"Total Sales\"]*100,1)\n",
        "revenues_all.at[\"Investment\",\"Percentage (Sales)\"]=round(recommentation_sales_df[[products_sales[2]]].sum().values[0]/revenues_all.loc[\"All Products\",\"Total Sales\"]*100,1)\n",
        "revenues_all.at[\"Account Type\",\"Percentage (Sales)\"]=round(recommentation_sales_df[[products_sales[3]]].sum().values[0]/revenues_all.loc[\"All Products\",\"Total Sales\"]*100,1)\n",
        "revenues_all.at[\"All Products\",\"Percentage (Sales)\"]=revenues_all[\"Percentage (Sales)\"].sum()\n",
        "\n",
        "revenues_all"
      ]
    },
    {
      "cell_type": "markdown",
      "id": "1b30466e",
      "metadata": {},
      "source": [
        "The table above shows 4 columns:\n",
        "- **Total Revenue**: The total revenue for each product type;\n",
        "- **Percentage (Revenue)**: The percentage of revenue for each product type;\n",
        "- **Total Sales**: The total sales for each product type;\n",
        "- **Percentage (Sales)**: The percentage of sales for each product type;\n",
        "\n",
        "By looking for the table, one can see that the 62.9% of revenuw is due to the account type products sold, but it is explained because the number of sales of such products corresponds to 87.4% of total sales.\n",
        "\n",
        "If we look for the Saving products, it's quite interesting that 9.7% of sales generated 27.8% of the revenue. Regarding the Financing products, less then 1% of sales generated 2.7% of the revenue.\n",
        "\n",
        "It means that, besides that more than 60% of the revenue came from account type products, we should be looking more for the other which tend to give more revenue per product sold."
      ]
    },
    {
      "cell_type": "code",
      "execution_count": 52,
      "id": "4c88b791",
      "metadata": {},
      "outputs": [],
      "source": [
        "def get_table_revenues_by_segment(df,segment,revenues_all):\n",
        "    revenues_=pd.DataFrame(index=[\"Savings\",\"Financing\",\"Investment\",\"Account Type\",\"All Products\"], columns=[\"Total Revenue\",\"Percentage\",\"Percentage of Total\"])\n",
        "\n",
        "    data_=df[df[\"Segment Customer\"]==segment]\n",
        "\n",
        "    revenues_.at[\"Savings\",\"Total Revenue\"]=data_[[products_sales[0]]].sum().values[0]*revenues.loc[\"Savings\",\"Revenue\"]\n",
        "    revenues_.at[\"Financing\",\"Total Revenue\"]=data_[[products_sales[1]]].sum().values[0]*revenues.loc[\"Financing\",\"Revenue\"]\n",
        "    revenues_.at[\"Investment\",\"Total Revenue\"]=data_[[products_sales[2]]].sum().values[0]*revenues.loc[\"Investment\",\"Revenue\"]\n",
        "    revenues_.at[\"Account Type\",\"Total Revenue\"]=data_[[products_sales[3]]].sum().values[0]*revenues.loc[\"Account Type\",\"Revenue\"]\n",
        "    revenues_.at[\"All Products\",\"Total Revenue\"]=revenues_[\"Total Revenue\"].sum()\n",
        "\n",
        "    revenues_.at[\"Savings\",\"Percentage\"]=round(revenues_.loc[\"Savings\",\"Total Revenue\"]/revenues_.loc[\"All Products\",\"Total Revenue\"]*100,1)\n",
        "    revenues_.at[\"Financing\",\"Percentage\"]=round(revenues_.loc[\"Financing\",\"Total Revenue\"]/revenues_.loc[\"All Products\",\"Total Revenue\"]*100,1)\n",
        "    revenues_.at[\"Investment\",\"Percentage\"]=round(revenues_.loc[\"Investment\",\"Total Revenue\"]/revenues_.loc[\"All Products\",\"Total Revenue\"]*100,1)\n",
        "    revenues_.at[\"Account Type\",\"Percentage\"]=round(revenues_.loc[\"Account Type\",\"Total Revenue\"]/revenues_.loc[\"All Products\",\"Total Revenue\"]*100,1)\n",
        "    revenues_.at[\"All Products\",\"Percentage\"]=revenues_[\"Percentage\"].sum()\n",
        "\n",
        "    revenues_.at[\"Savings\",\"Percentage of Total\"]=round(revenues_.loc[\"Savings\",\"Total Revenue\"]/revenues_all.loc[\"Savings\",\"Total Revenue\"]*100,1)\n",
        "    revenues_.at[\"Financing\",\"Percentage of Total\"]=round(revenues_.loc[\"Financing\",\"Total Revenue\"]/revenues_all.loc[\"Financing\",\"Total Revenue\"]*100,1)\n",
        "    revenues_.at[\"Investment\",\"Percentage of Total\"]=round(revenues_.loc[\"Investment\",\"Total Revenue\"]/revenues_all.loc[\"Investment\",\"Total Revenue\"]*100,1)\n",
        "    revenues_.at[\"Account Type\",\"Percentage of Total\"]=round(revenues_.loc[\"Account Type\",\"Total Revenue\"]/revenues_all.loc[\"Account Type\",\"Total Revenue\"]*100,1)\n",
        "    revenues_.at[\"All Products\",\"Percentage of Total\"]=round(revenues_.loc[\"All Products\",\"Total Revenue\"]/revenues_all.loc[\"All Products\",\"Total Revenue\"]*100,1)\n",
        "\n",
        "    return revenues_,round(data_.shape[0]/df.shape[0]*100,1)"
      ]
    },
    {
      "cell_type": "markdown",
      "id": "62930d2b",
      "metadata": {},
      "source": [
        "## 2. High Salary Universitarios"
      ]
    },
    {
      "cell_type": "code",
      "execution_count": 53,
      "id": "82327337",
      "metadata": {},
      "outputs": [
        {
          "data": {
            "text/html": [
              "<div>\n",
              "<style scoped>\n",
              "    .dataframe tbody tr th:only-of-type {\n",
              "        vertical-align: middle;\n",
              "    }\n",
              "\n",
              "    .dataframe tbody tr th {\n",
              "        vertical-align: top;\n",
              "    }\n",
              "\n",
              "    .dataframe thead th {\n",
              "        text-align: right;\n",
              "    }\n",
              "</style>\n",
              "<table border=\"1\" class=\"dataframe\">\n",
              "  <thead>\n",
              "    <tr style=\"text-align: right;\">\n",
              "      <th></th>\n",
              "      <th>Total Revenue</th>\n",
              "      <th>Percentage</th>\n",
              "      <th>Percentage of Total</th>\n",
              "    </tr>\n",
              "  </thead>\n",
              "  <tbody>\n",
              "    <tr>\n",
              "      <th>Savings</th>\n",
              "      <td>31360</td>\n",
              "      <td>5.9</td>\n",
              "      <td>1.3</td>\n",
              "    </tr>\n",
              "    <tr>\n",
              "      <th>Financing</th>\n",
              "      <td>2280</td>\n",
              "      <td>0.4</td>\n",
              "      <td>1.0</td>\n",
              "    </tr>\n",
              "    <tr>\n",
              "      <th>Investment</th>\n",
              "      <td>2640</td>\n",
              "      <td>0.5</td>\n",
              "      <td>0.5</td>\n",
              "    </tr>\n",
              "    <tr>\n",
              "      <th>Account Type</th>\n",
              "      <td>492490</td>\n",
              "      <td>93.1</td>\n",
              "      <td>8.9</td>\n",
              "    </tr>\n",
              "    <tr>\n",
              "      <th>All Products</th>\n",
              "      <td>528770</td>\n",
              "      <td>99.9</td>\n",
              "      <td>6.0</td>\n",
              "    </tr>\n",
              "  </tbody>\n",
              "</table>\n",
              "</div>"
            ],
            "text/plain": [
              "             Total Revenue Percentage Percentage of Total\n",
              "Savings              31360        5.9                 1.3\n",
              "Financing             2280        0.4                 1.0\n",
              "Investment            2640        0.5                 0.5\n",
              "Account Type        492490       93.1                 8.9\n",
              "All Products        528770       99.9                 6.0"
            ]
          },
          "execution_count": 53,
          "metadata": {},
          "output_type": "execute_result"
        }
      ],
      "source": [
        "revenues_high_sal_univ,n_high_sal_univ=get_table_revenues_by_segment(recommentation_sales_df,\"High Salary Universitario\",revenues_all)\n",
        "revenues_high_sal_univ"
      ]
    },
    {
      "cell_type": "code",
      "execution_count": 54,
      "id": "1042719f",
      "metadata": {},
      "outputs": [
        {
          "data": {
            "text/plain": [
              "14.1"
            ]
          },
          "execution_count": 54,
          "metadata": {},
          "output_type": "execute_result"
        }
      ],
      "source": [
        "n_high_sal_univ"
      ]
    },
    {
      "cell_type": "markdown",
      "id": "aaef965e",
      "metadata": {},
      "source": [
        "Regarding the High Salary Universitarios, just 6% of the total revenue came from this group, and 93.1% of those 6% came from Account type products.\n",
        "\n",
        "For that segment, the remaning product don't have importance in the total revenue. That segment has 14% of the total costumers."
      ]
    },
    {
      "cell_type": "markdown",
      "id": "4b64873c",
      "metadata": {},
      "source": [
        "## 3. Low Salary Universitarios"
      ]
    },
    {
      "cell_type": "code",
      "execution_count": 55,
      "id": "e4778520",
      "metadata": {},
      "outputs": [
        {
          "data": {
            "text/html": [
              "<div>\n",
              "<style scoped>\n",
              "    .dataframe tbody tr th:only-of-type {\n",
              "        vertical-align: middle;\n",
              "    }\n",
              "\n",
              "    .dataframe tbody tr th {\n",
              "        vertical-align: top;\n",
              "    }\n",
              "\n",
              "    .dataframe thead th {\n",
              "        text-align: right;\n",
              "    }\n",
              "</style>\n",
              "<table border=\"1\" class=\"dataframe\">\n",
              "  <thead>\n",
              "    <tr style=\"text-align: right;\">\n",
              "      <th></th>\n",
              "      <th>Total Revenue</th>\n",
              "      <th>Percentage</th>\n",
              "      <th>Percentage of Total</th>\n",
              "    </tr>\n",
              "  </thead>\n",
              "  <tbody>\n",
              "    <tr>\n",
              "      <th>Savings</th>\n",
              "      <td>47600</td>\n",
              "      <td>3.2</td>\n",
              "      <td>1.9</td>\n",
              "    </tr>\n",
              "    <tr>\n",
              "      <th>Financing</th>\n",
              "      <td>2400</td>\n",
              "      <td>0.2</td>\n",
              "      <td>1.0</td>\n",
              "    </tr>\n",
              "    <tr>\n",
              "      <th>Investment</th>\n",
              "      <td>4560</td>\n",
              "      <td>0.3</td>\n",
              "      <td>0.8</td>\n",
              "    </tr>\n",
              "    <tr>\n",
              "      <th>Account Type</th>\n",
              "      <td>1437710</td>\n",
              "      <td>96.3</td>\n",
              "      <td>25.9</td>\n",
              "    </tr>\n",
              "    <tr>\n",
              "      <th>All Products</th>\n",
              "      <td>1492270</td>\n",
              "      <td>100.0</td>\n",
              "      <td>16.9</td>\n",
              "    </tr>\n",
              "  </tbody>\n",
              "</table>\n",
              "</div>"
            ],
            "text/plain": [
              "             Total Revenue Percentage Percentage of Total\n",
              "Savings              47600        3.2                 1.9\n",
              "Financing             2400        0.2                 1.0\n",
              "Investment            4560        0.3                 0.8\n",
              "Account Type       1437710       96.3                25.9\n",
              "All Products       1492270      100.0                16.9"
            ]
          },
          "execution_count": 55,
          "metadata": {},
          "output_type": "execute_result"
        }
      ],
      "source": [
        "revenues_low_sal_univ,n_low_sal_univ=get_table_revenues_by_segment(recommentation_sales_df,\"Low Salary Universitario\",revenues_all)\n",
        "revenues_low_sal_univ"
      ]
    },
    {
      "cell_type": "code",
      "execution_count": 56,
      "id": "8d20e657",
      "metadata": {},
      "outputs": [
        {
          "data": {
            "text/plain": [
              "38.9"
            ]
          },
          "execution_count": 56,
          "metadata": {},
          "output_type": "execute_result"
        }
      ],
      "source": [
        "n_low_sal_univ"
      ]
    },
    {
      "cell_type": "markdown",
      "id": "22ecf1c8",
      "metadata": {},
      "source": [
        "Regarding the Low Salary Universitarios, just 16.9% of the total revenue came from this group, and 96.3% of those 16.9% came from Account type products.\n",
        "\n",
        "For that segment, the remaning product don't have importance in the total revenue, especially if we think that segment has 39% of the total costumers (we don't earn so much per costumer)"
      ]
    },
    {
      "cell_type": "markdown",
      "id": "cc02dc33",
      "metadata": {},
      "source": [
        "## 4. Buyer Universitarios"
      ]
    },
    {
      "cell_type": "code",
      "execution_count": 57,
      "id": "3145fc9a",
      "metadata": {},
      "outputs": [
        {
          "data": {
            "text/html": [
              "<div>\n",
              "<style scoped>\n",
              "    .dataframe tbody tr th:only-of-type {\n",
              "        vertical-align: middle;\n",
              "    }\n",
              "\n",
              "    .dataframe tbody tr th {\n",
              "        vertical-align: top;\n",
              "    }\n",
              "\n",
              "    .dataframe thead th {\n",
              "        text-align: right;\n",
              "    }\n",
              "</style>\n",
              "<table border=\"1\" class=\"dataframe\">\n",
              "  <thead>\n",
              "    <tr style=\"text-align: right;\">\n",
              "      <th></th>\n",
              "      <th>Total Revenue</th>\n",
              "      <th>Percentage</th>\n",
              "      <th>Percentage of Total</th>\n",
              "    </tr>\n",
              "  </thead>\n",
              "  <tbody>\n",
              "    <tr>\n",
              "      <th>Savings</th>\n",
              "      <td>490600</td>\n",
              "      <td>50.7</td>\n",
              "      <td>20.0</td>\n",
              "    </tr>\n",
              "    <tr>\n",
              "      <th>Financing</th>\n",
              "      <td>20640</td>\n",
              "      <td>2.1</td>\n",
              "      <td>8.7</td>\n",
              "    </tr>\n",
              "    <tr>\n",
              "      <th>Investment</th>\n",
              "      <td>80640</td>\n",
              "      <td>8.3</td>\n",
              "      <td>13.8</td>\n",
              "    </tr>\n",
              "    <tr>\n",
              "      <th>Account Type</th>\n",
              "      <td>375730</td>\n",
              "      <td>38.8</td>\n",
              "      <td>6.8</td>\n",
              "    </tr>\n",
              "    <tr>\n",
              "      <th>All Products</th>\n",
              "      <td>967610</td>\n",
              "      <td>99.9</td>\n",
              "      <td>11.0</td>\n",
              "    </tr>\n",
              "  </tbody>\n",
              "</table>\n",
              "</div>"
            ],
            "text/plain": [
              "             Total Revenue Percentage Percentage of Total\n",
              "Savings             490600       50.7                20.0\n",
              "Financing            20640        2.1                 8.7\n",
              "Investment           80640        8.3                13.8\n",
              "Account Type        375730       38.8                 6.8\n",
              "All Products        967610       99.9                11.0"
            ]
          },
          "execution_count": 57,
          "metadata": {},
          "output_type": "execute_result"
        }
      ],
      "source": [
        "revenues_buy_univ,n_buy_univ=get_table_revenues_by_segment(recommentation_sales_df,\"Buyer Universitario\",revenues_all)\n",
        "revenues_buy_univ"
      ]
    },
    {
      "cell_type": "code",
      "execution_count": 58,
      "id": "a28b4929",
      "metadata": {},
      "outputs": [
        {
          "data": {
            "text/plain": [
              "2.0"
            ]
          },
          "execution_count": 58,
          "metadata": {},
          "output_type": "execute_result"
        }
      ],
      "source": [
        "n_buy_univ"
      ]
    },
    {
      "cell_type": "markdown",
      "id": "65548fc0",
      "metadata": {},
      "source": [
        "Regarding the Buyer Universitarios, just 11% of the total revenue came from this group, and 50.7% of those 11% came from Saving products.\n",
        "\n",
        "For that segment, account type products also have some importance in the total revenue. The must interesting part related with those costumers is that those 11% revenue is made by just 2% of total costumers."
      ]
    },
    {
      "cell_type": "markdown",
      "id": "4b882a37",
      "metadata": {},
      "source": [
        "## 5. Low Salary No Universitarios"
      ]
    },
    {
      "cell_type": "code",
      "execution_count": 59,
      "id": "cebd7ce6",
      "metadata": {},
      "outputs": [
        {
          "data": {
            "text/html": [
              "<div>\n",
              "<style scoped>\n",
              "    .dataframe tbody tr th:only-of-type {\n",
              "        vertical-align: middle;\n",
              "    }\n",
              "\n",
              "    .dataframe tbody tr th {\n",
              "        vertical-align: top;\n",
              "    }\n",
              "\n",
              "    .dataframe thead th {\n",
              "        text-align: right;\n",
              "    }\n",
              "</style>\n",
              "<table border=\"1\" class=\"dataframe\">\n",
              "  <thead>\n",
              "    <tr style=\"text-align: right;\">\n",
              "      <th></th>\n",
              "      <th>Total Revenue</th>\n",
              "      <th>Percentage</th>\n",
              "      <th>Percentage of Total</th>\n",
              "    </tr>\n",
              "  </thead>\n",
              "  <tbody>\n",
              "    <tr>\n",
              "      <th>Savings</th>\n",
              "      <td>189600</td>\n",
              "      <td>10.2</td>\n",
              "      <td>7.7</td>\n",
              "    </tr>\n",
              "    <tr>\n",
              "      <th>Financing</th>\n",
              "      <td>0</td>\n",
              "      <td>0.0</td>\n",
              "      <td>0.0</td>\n",
              "    </tr>\n",
              "    <tr>\n",
              "      <th>Investment</th>\n",
              "      <td>41760</td>\n",
              "      <td>2.3</td>\n",
              "      <td>7.2</td>\n",
              "    </tr>\n",
              "    <tr>\n",
              "      <th>Account Type</th>\n",
              "      <td>1619190</td>\n",
              "      <td>87.5</td>\n",
              "      <td>29.2</td>\n",
              "    </tr>\n",
              "    <tr>\n",
              "      <th>All Products</th>\n",
              "      <td>1850550</td>\n",
              "      <td>100.0</td>\n",
              "      <td>21.0</td>\n",
              "    </tr>\n",
              "  </tbody>\n",
              "</table>\n",
              "</div>"
            ],
            "text/plain": [
              "             Total Revenue Percentage Percentage of Total\n",
              "Savings             189600       10.2                 7.7\n",
              "Financing                0        0.0                 0.0\n",
              "Investment           41760        2.3                 7.2\n",
              "Account Type       1619190       87.5                29.2\n",
              "All Products       1850550      100.0                21.0"
            ]
          },
          "execution_count": 59,
          "metadata": {},
          "output_type": "execute_result"
        }
      ],
      "source": [
        "revenues_low_no_univ,n_low_no_univ=get_table_revenues_by_segment(recommentation_sales_df,\"Low Salary No Universitario\",revenues_all)\n",
        "revenues_low_no_univ"
      ]
    },
    {
      "cell_type": "code",
      "execution_count": 60,
      "id": "f1bf9d4a",
      "metadata": {},
      "outputs": [
        {
          "data": {
            "text/plain": [
              "29.3"
            ]
          },
          "execution_count": 60,
          "metadata": {},
          "output_type": "execute_result"
        }
      ],
      "source": [
        "n_low_no_univ"
      ]
    },
    {
      "cell_type": "markdown",
      "id": "92c5f722",
      "metadata": {},
      "source": [
        "Regarding the Low Salary No Universitarios, 21% of the total revenue came from this group, and 87.5% of those 21% came from Account type products.\n",
        "\n",
        "7.7% of the total savings revenues came from that segment and it's the main reason for the percentage of total revenue being higher than the Low Salary Universitario segment."
      ]
    },
    {
      "cell_type": "markdown",
      "id": "c739bbbb",
      "metadata": {},
      "source": [
        "## 6. High Salary No Universitarios"
      ]
    },
    {
      "cell_type": "code",
      "execution_count": 61,
      "id": "e26b8fe1",
      "metadata": {},
      "outputs": [
        {
          "data": {
            "text/html": [
              "<div>\n",
              "<style scoped>\n",
              "    .dataframe tbody tr th:only-of-type {\n",
              "        vertical-align: middle;\n",
              "    }\n",
              "\n",
              "    .dataframe tbody tr th {\n",
              "        vertical-align: top;\n",
              "    }\n",
              "\n",
              "    .dataframe thead th {\n",
              "        text-align: right;\n",
              "    }\n",
              "</style>\n",
              "<table border=\"1\" class=\"dataframe\">\n",
              "  <thead>\n",
              "    <tr style=\"text-align: right;\">\n",
              "      <th></th>\n",
              "      <th>Total Revenue</th>\n",
              "      <th>Percentage</th>\n",
              "      <th>Percentage of Total</th>\n",
              "    </tr>\n",
              "  </thead>\n",
              "  <tbody>\n",
              "    <tr>\n",
              "      <th>Savings</th>\n",
              "      <td>203240</td>\n",
              "      <td>29.2</td>\n",
              "      <td>8.3</td>\n",
              "    </tr>\n",
              "    <tr>\n",
              "      <th>Financing</th>\n",
              "      <td>0</td>\n",
              "      <td>0.0</td>\n",
              "      <td>0.0</td>\n",
              "    </tr>\n",
              "    <tr>\n",
              "      <th>Investment</th>\n",
              "      <td>36360</td>\n",
              "      <td>5.2</td>\n",
              "      <td>6.2</td>\n",
              "    </tr>\n",
              "    <tr>\n",
              "      <th>Account Type</th>\n",
              "      <td>456560</td>\n",
              "      <td>65.6</td>\n",
              "      <td>8.2</td>\n",
              "    </tr>\n",
              "    <tr>\n",
              "      <th>All Products</th>\n",
              "      <td>696160</td>\n",
              "      <td>100.0</td>\n",
              "      <td>7.9</td>\n",
              "    </tr>\n",
              "  </tbody>\n",
              "</table>\n",
              "</div>"
            ],
            "text/plain": [
              "             Total Revenue Percentage Percentage of Total\n",
              "Savings             203240       29.2                 8.3\n",
              "Financing                0        0.0                 0.0\n",
              "Investment           36360        5.2                 6.2\n",
              "Account Type        456560       65.6                 8.2\n",
              "All Products        696160      100.0                 7.9"
            ]
          },
          "execution_count": 61,
          "metadata": {},
          "output_type": "execute_result"
        }
      ],
      "source": [
        "revenues_high_no_univ,n_high_no_univ=get_table_revenues_by_segment(recommentation_sales_df,\"High Salary No Universitario\",revenues_all)\n",
        "revenues_high_no_univ"
      ]
    },
    {
      "cell_type": "code",
      "execution_count": 62,
      "id": "0cb5c191",
      "metadata": {},
      "outputs": [
        {
          "data": {
            "text/plain": [
              "8.8"
            ]
          },
          "execution_count": 62,
          "metadata": {},
          "output_type": "execute_result"
        }
      ],
      "source": [
        "n_high_no_univ"
      ]
    },
    {
      "cell_type": "markdown",
      "id": "377bfd53",
      "metadata": {},
      "source": [
        "Regarding the High Salary No Universitarios, 8% of the total revenue came from this group, and 65.6% of those 8% came from Account type products.\n",
        "\n",
        "Comparing to the High Salary Universitarios, the percentage of revenue is high if we think that just 8.8% of customers belong to such segment, when 14.1% belong to the Universitario."
      ]
    },
    {
      "cell_type": "markdown",
      "id": "7e80333e",
      "metadata": {},
      "source": [
        "## 7. Saving Buyer No Universitarios"
      ]
    },
    {
      "cell_type": "code",
      "execution_count": 63,
      "id": "82414aa5",
      "metadata": {},
      "outputs": [
        {
          "data": {
            "text/html": [
              "<div>\n",
              "<style scoped>\n",
              "    .dataframe tbody tr th:only-of-type {\n",
              "        vertical-align: middle;\n",
              "    }\n",
              "\n",
              "    .dataframe tbody tr th {\n",
              "        vertical-align: top;\n",
              "    }\n",
              "\n",
              "    .dataframe thead th {\n",
              "        text-align: right;\n",
              "    }\n",
              "</style>\n",
              "<table border=\"1\" class=\"dataframe\">\n",
              "  <thead>\n",
              "    <tr style=\"text-align: right;\">\n",
              "      <th></th>\n",
              "      <th>Total Revenue</th>\n",
              "      <th>Percentage</th>\n",
              "      <th>Percentage of Total</th>\n",
              "    </tr>\n",
              "  </thead>\n",
              "  <tbody>\n",
              "    <tr>\n",
              "      <th>Savings</th>\n",
              "      <td>1418720</td>\n",
              "      <td>49.0</td>\n",
              "      <td>57.8</td>\n",
              "    </tr>\n",
              "    <tr>\n",
              "      <th>Financing</th>\n",
              "      <td>0</td>\n",
              "      <td>0.0</td>\n",
              "      <td>0.0</td>\n",
              "    </tr>\n",
              "    <tr>\n",
              "      <th>Investment</th>\n",
              "      <td>380120</td>\n",
              "      <td>13.1</td>\n",
              "      <td>65.3</td>\n",
              "    </tr>\n",
              "    <tr>\n",
              "      <th>Account Type</th>\n",
              "      <td>1095750</td>\n",
              "      <td>37.9</td>\n",
              "      <td>19.7</td>\n",
              "    </tr>\n",
              "    <tr>\n",
              "      <th>All Products</th>\n",
              "      <td>2894590</td>\n",
              "      <td>100.0</td>\n",
              "      <td>32.8</td>\n",
              "    </tr>\n",
              "  </tbody>\n",
              "</table>\n",
              "</div>"
            ],
            "text/plain": [
              "             Total Revenue Percentage Percentage of Total\n",
              "Savings            1418720       49.0                57.8\n",
              "Financing                0        0.0                 0.0\n",
              "Investment          380120       13.1                65.3\n",
              "Account Type       1095750       37.9                19.7\n",
              "All Products       2894590      100.0                32.8"
            ]
          },
          "execution_count": 63,
          "metadata": {},
          "output_type": "execute_result"
        }
      ],
      "source": [
        "revenues_sav_no_univ,n_sav_no_univ=get_table_revenues_by_segment(recommentation_sales_df,\"Saving Buyer No Universitario\",revenues_all)\n",
        "revenues_sav_no_univ"
      ]
    },
    {
      "cell_type": "code",
      "execution_count": 64,
      "id": "c88b31b6",
      "metadata": {},
      "outputs": [
        {
          "data": {
            "text/plain": [
              "6.1"
            ]
          },
          "execution_count": 64,
          "metadata": {},
          "output_type": "execute_result"
        }
      ],
      "source": [
        "n_sav_no_univ"
      ]
    },
    {
      "cell_type": "markdown",
      "id": "6be87935",
      "metadata": {},
      "source": [
        "Regarding the Saving Buyer No Universitarios, 33% of the total revenue came from this group, and 49% of those 33% came from Savings products.\n",
        "\n",
        "This is an interesting group because only 6.1% of total costumers generated 33% of the revenue. This is clearly because those clients bought expensive products (40€ each)."
      ]
    },
    {
      "cell_type": "markdown",
      "id": "723c1b2e",
      "metadata": {},
      "source": [
        "## 8. Financing Buyer No Universitarios"
      ]
    },
    {
      "cell_type": "code",
      "execution_count": 65,
      "id": "174e3cfc",
      "metadata": {},
      "outputs": [
        {
          "data": {
            "text/html": [
              "<div>\n",
              "<style scoped>\n",
              "    .dataframe tbody tr th:only-of-type {\n",
              "        vertical-align: middle;\n",
              "    }\n",
              "\n",
              "    .dataframe tbody tr th {\n",
              "        vertical-align: top;\n",
              "    }\n",
              "\n",
              "    .dataframe thead th {\n",
              "        text-align: right;\n",
              "    }\n",
              "</style>\n",
              "<table border=\"1\" class=\"dataframe\">\n",
              "  <thead>\n",
              "    <tr style=\"text-align: right;\">\n",
              "      <th></th>\n",
              "      <th>Total Revenue</th>\n",
              "      <th>Percentage</th>\n",
              "      <th>Percentage of Total</th>\n",
              "    </tr>\n",
              "  </thead>\n",
              "  <tbody>\n",
              "    <tr>\n",
              "      <th>Savings</th>\n",
              "      <td>75320</td>\n",
              "      <td>18.9</td>\n",
              "      <td>3.1</td>\n",
              "    </tr>\n",
              "    <tr>\n",
              "      <th>Financing</th>\n",
              "      <td>211620</td>\n",
              "      <td>53.0</td>\n",
              "      <td>89.3</td>\n",
              "    </tr>\n",
              "    <tr>\n",
              "      <th>Investment</th>\n",
              "      <td>36320</td>\n",
              "      <td>9.1</td>\n",
              "      <td>6.2</td>\n",
              "    </tr>\n",
              "    <tr>\n",
              "      <th>Account Type</th>\n",
              "      <td>75870</td>\n",
              "      <td>19.0</td>\n",
              "      <td>1.4</td>\n",
              "    </tr>\n",
              "    <tr>\n",
              "      <th>All Products</th>\n",
              "      <td>399130</td>\n",
              "      <td>100.0</td>\n",
              "      <td>4.5</td>\n",
              "    </tr>\n",
              "  </tbody>\n",
              "</table>\n",
              "</div>"
            ],
            "text/plain": [
              "             Total Revenue Percentage Percentage of Total\n",
              "Savings              75320       18.9                 3.1\n",
              "Financing           211620       53.0                89.3\n",
              "Investment           36320        9.1                 6.2\n",
              "Account Type         75870       19.0                 1.4\n",
              "All Products        399130      100.0                 4.5"
            ]
          },
          "execution_count": 65,
          "metadata": {},
          "output_type": "execute_result"
        }
      ],
      "source": [
        "revenues_fin_no_univ,n_fin_no_univ=get_table_revenues_by_segment(recommentation_sales_df,\"Financing Buyer No Universitario\",revenues_all)\n",
        "revenues_fin_no_univ"
      ]
    },
    {
      "cell_type": "code",
      "execution_count": 66,
      "id": "e5bb09b2",
      "metadata": {},
      "outputs": [
        {
          "data": {
            "text/plain": [
              "0.8"
            ]
          },
          "execution_count": 66,
          "metadata": {},
          "output_type": "execute_result"
        }
      ],
      "source": [
        "n_fin_no_univ"
      ]
    },
    {
      "cell_type": "markdown",
      "id": "dd6078c0",
      "metadata": {},
      "source": [
        "Regarding the Financing Buyer No Universitarios, 4.5% of the total revenue came from this group, and 53% of those 4.5% came from Financing products.\n",
        "\n",
        "This is also an interesting group because only 0.8% of total costumers generated 4.5% of the revenue. This is clearly because those clients bought the most expensive products (60€ each), even if the group is composed by just 0.8% of total costumers. Each sale on this segment means 6x more revenue comparing to the groups that buy account products."
      ]
    },
    {
      "cell_type": "markdown",
      "id": "21aa77a2",
      "metadata": {},
      "source": [
        "## 9. Overview"
      ]
    },
    {
      "cell_type": "markdown",
      "id": "5301462c",
      "metadata": {},
      "source": [
        "The table below puts all the information together:"
      ]
    },
    {
      "cell_type": "code",
      "execution_count": 67,
      "id": "5134ac6d",
      "metadata": {},
      "outputs": [
        {
          "data": {
            "text/html": [
              "<div>\n",
              "<style scoped>\n",
              "    .dataframe tbody tr th:only-of-type {\n",
              "        vertical-align: middle;\n",
              "    }\n",
              "\n",
              "    .dataframe tbody tr th {\n",
              "        vertical-align: top;\n",
              "    }\n",
              "\n",
              "    .dataframe thead th {\n",
              "        text-align: right;\n",
              "    }\n",
              "</style>\n",
              "<table border=\"1\" class=\"dataframe\">\n",
              "  <thead>\n",
              "    <tr style=\"text-align: right;\">\n",
              "      <th></th>\n",
              "      <th>High Univ</th>\n",
              "      <th>Low Univ</th>\n",
              "      <th>Buyer Univ</th>\n",
              "      <th>Low NUniv</th>\n",
              "      <th>High NUniv</th>\n",
              "      <th>Saving NUniv</th>\n",
              "      <th>Financing NUniv</th>\n",
              "      <th>Total</th>\n",
              "    </tr>\n",
              "  </thead>\n",
              "  <tbody>\n",
              "    <tr>\n",
              "      <th>Savings</th>\n",
              "      <td>1.3</td>\n",
              "      <td>1.9</td>\n",
              "      <td>20.0</td>\n",
              "      <td>7.7</td>\n",
              "      <td>8.3</td>\n",
              "      <td>57.8</td>\n",
              "      <td>3.1</td>\n",
              "      <td>100.1</td>\n",
              "    </tr>\n",
              "    <tr>\n",
              "      <th>Financing</th>\n",
              "      <td>1.0</td>\n",
              "      <td>1.0</td>\n",
              "      <td>8.7</td>\n",
              "      <td>0.0</td>\n",
              "      <td>0.0</td>\n",
              "      <td>0.0</td>\n",
              "      <td>89.3</td>\n",
              "      <td>100.0</td>\n",
              "    </tr>\n",
              "    <tr>\n",
              "      <th>Investment</th>\n",
              "      <td>0.5</td>\n",
              "      <td>0.8</td>\n",
              "      <td>13.8</td>\n",
              "      <td>7.2</td>\n",
              "      <td>6.2</td>\n",
              "      <td>65.3</td>\n",
              "      <td>6.2</td>\n",
              "      <td>100.0</td>\n",
              "    </tr>\n",
              "    <tr>\n",
              "      <th>Account Type</th>\n",
              "      <td>8.9</td>\n",
              "      <td>25.9</td>\n",
              "      <td>6.8</td>\n",
              "      <td>29.2</td>\n",
              "      <td>8.2</td>\n",
              "      <td>19.7</td>\n",
              "      <td>1.4</td>\n",
              "      <td>100.1</td>\n",
              "    </tr>\n",
              "    <tr>\n",
              "      <th>All Products</th>\n",
              "      <td>6.0</td>\n",
              "      <td>16.9</td>\n",
              "      <td>11.0</td>\n",
              "      <td>21.0</td>\n",
              "      <td>7.9</td>\n",
              "      <td>32.8</td>\n",
              "      <td>4.5</td>\n",
              "      <td>100.1</td>\n",
              "    </tr>\n",
              "    <tr>\n",
              "      <th>% Customers</th>\n",
              "      <td>14.1</td>\n",
              "      <td>38.9</td>\n",
              "      <td>2.0</td>\n",
              "      <td>29.3</td>\n",
              "      <td>8.8</td>\n",
              "      <td>6.1</td>\n",
              "      <td>0.8</td>\n",
              "      <td>100.0</td>\n",
              "    </tr>\n",
              "  </tbody>\n",
              "</table>\n",
              "</div>"
            ],
            "text/plain": [
              "             High Univ Low Univ Buyer Univ Low NUniv High NUniv Saving NUniv  \\\n",
              "Savings            1.3      1.9       20.0       7.7        8.3         57.8   \n",
              "Financing          1.0      1.0        8.7       0.0        0.0          0.0   \n",
              "Investment         0.5      0.8       13.8       7.2        6.2         65.3   \n",
              "Account Type       8.9     25.9        6.8      29.2        8.2         19.7   \n",
              "All Products       6.0     16.9       11.0      21.0        7.9         32.8   \n",
              "% Customers       14.1     38.9        2.0      29.3        8.8          6.1   \n",
              "\n",
              "             Financing NUniv  Total  \n",
              "Savings                  3.1  100.1  \n",
              "Financing               89.3  100.0  \n",
              "Investment               6.2  100.0  \n",
              "Account Type             1.4  100.1  \n",
              "All Products             4.5  100.1  \n",
              "% Customers              0.8  100.0  "
            ]
          },
          "execution_count": 67,
          "metadata": {},
          "output_type": "execute_result"
        }
      ],
      "source": [
        "all_df=pd.DataFrame(index=[\"Savings\",\"Financing\",\"Investment\",\"Account Type\",\"All Products\",\"% Customers\"], columns=[\"High Univ\",\"Low Univ\",\"Buyer Univ\",\"Low NUniv\",\"High NUniv\",\"Saving NUniv\",\"Financing NUniv\"])\n",
        "\n",
        "all_df[\"High Univ\"]=revenues_high_sal_univ[\"Percentage of Total\"]\n",
        "all_df[\"Low Univ\"]=revenues_low_sal_univ[\"Percentage of Total\"]\n",
        "all_df[\"Buyer Univ\"]=revenues_buy_univ[\"Percentage of Total\"]\n",
        "all_df[\"Low NUniv\"]=revenues_low_no_univ[\"Percentage of Total\"]\n",
        "all_df[\"High NUniv\"]=revenues_high_no_univ[\"Percentage of Total\"]\n",
        "all_df[\"Saving NUniv\"]=revenues_sav_no_univ[\"Percentage of Total\"]\n",
        "all_df[\"Financing NUniv\"]=revenues_fin_no_univ[\"Percentage of Total\"]\n",
        "\n",
        "all_df.at[\"% Customers\",\"High Univ\"]=n_high_sal_univ\n",
        "all_df.at[\"% Customers\",\"Low Univ\"]=n_low_sal_univ\n",
        "all_df.at[\"% Customers\",\"Buyer Univ\"]=n_buy_univ\n",
        "all_df.at[\"% Customers\",\"Low NUniv\"]=n_low_no_univ\n",
        "all_df.at[\"% Customers\",\"High NUniv\"]=n_high_no_univ\n",
        "all_df.at[\"% Customers\",\"Saving NUniv\"]=n_sav_no_univ\n",
        "all_df.at[\"% Customers\",\"Financing NUniv\"]=n_fin_no_univ\n",
        "\n",
        "all_df[\"Total\"]=all_df[[\"High Univ\",\"Low Univ\",\"Buyer Univ\",\"Low NUniv\",\"High NUniv\",\"Saving NUniv\",\"Financing NUniv\"]].sum(axis=1)\n",
        "\n",
        "all_df"
      ]
    },
    {
      "cell_type": "markdown",
      "id": "a95fcb2c",
      "metadata": {},
      "source": [
        "__________________\n",
        "# B. GRADIENT BOOSTING CLASSIFIER\n",
        "__________________"
      ]
    },
    {
      "cell_type": "markdown",
      "id": "3522144a",
      "metadata": {},
      "source": [
        "Regarding the recommendation task, we decided to analyse the problem by looking for the sales for each client segment and to perform a Gradient Boosting Classifier to perform predictions related with the decision of each client buy/not buy the product.\n",
        "\n",
        "So, to perform this approach we decided to target the sales of each type of product on the model and predict if whose clients will or won't buy the product."
      ]
    },
    {
      "cell_type": "code",
      "execution_count": 68,
      "id": "564fc414",
      "metadata": {},
      "outputs": [],
      "source": [
        "from sklearn.ensemble import GradientBoostingClassifier"
      ]
    },
    {
      "cell_type": "code",
      "execution_count": 69,
      "id": "3ba28131",
      "metadata": {},
      "outputs": [],
      "source": [
        "segments=[\"Low Salary Universitario\", \"High Salary Universitario\", \"Buyer Universitario\",\n",
        "                      \"Low Salary No Universitario\", \"High Salary No Universitario\", \"Saving Buyer No Universitario\", \"Financing Buyer No Universitario\"]\n",
        "prod_sales=['savings_sold', 'financing_sold', 'invesment_sold', 'account_type_sold']"
      ]
    },
    {
      "cell_type": "markdown",
      "id": "f49c6b57",
      "metadata": {},
      "source": [
        "## 1. Targeting Each Product Type"
      ]
    },
    {
      "cell_type": "markdown",
      "id": "0750908b",
      "metadata": {},
      "source": [
        "Below one can see the function that will perform the loop to target each one of such product type.\n",
        "\n",
        "Regarding the data transformation, we decide to create the target column {*product_type*}_buy which is 0 if the client never bought such type of product and 1 if the client bough at least one product.\n",
        "Then there were created dummies to replace the *Costumer Segment* feature.\n",
        "\n",
        "The model was trained with 70% of the data and 30% was saved to perform the test evaluation.\n",
        "\n",
        "In the end, we make an estimation of sales for each segment based on the 4 models performed."
      ]
    },
    {
      "cell_type": "code",
      "execution_count": 70,
      "id": "d22a98db",
      "metadata": {},
      "outputs": [],
      "source": [
        "def get_estimation_by_segment(segment,df,gb,prod):\n",
        "    x_=df.drop(columns=[f\"{prod}_buy\",prod])[df[segment]==1]\n",
        "    y_=df[f\"{prod}_buy\"][df[segment]==1]\n",
        "\n",
        "    y_pred = pd.DataFrame(gb.predict(x_), index=y_.index, columns=[f'{prod}_Prediction'])\n",
        "    y_pred_df = pd.DataFrame(y_pred)\n",
        "    y_df = pd.DataFrame(y_)\n",
        "    results_df = pd.merge(y_pred_df, y_df, left_index=True, right_index=True)\n",
        "    results_df['Success'] = (results_df[f\"{prod}_buy\"] == results_df[f'{prod}_Prediction']).astype(int)\n",
        "\n",
        "    return round(results_df[f'{prod}_Prediction'].mean() * x_.shape[0],0)"
      ]
    },
    {
      "cell_type": "code",
      "execution_count": 71,
      "id": "fcb7cbfe",
      "metadata": {},
      "outputs": [],
      "source": [
        "def train_models(df,segments,prod_sales):\n",
        "\n",
        "    expected_sales=pd.DataFrame(index=prod_sales, columns=segments)\n",
        "    top_features_all=[]\n",
        "\n",
        "    for prod in prod_sales:\n",
        "\n",
        "        print(f'TRAINING {prod.upper()}')\n",
        "\n",
        "        sales_df=df[['pk_cid', 'active_customer', 'Age_group',\n",
        "                                    'new_customer', 'segment_', 'salary_level', 'savings_sold', 'financing_sold', 'invesment_sold', 'account_type_sold', 'Segment Customer']].groupby(\"pk_cid\").agg({\n",
        "                                        'active_customer':'max',\n",
        "                                        'Age_group':'max',\n",
        "                                        'new_customer':'max',\n",
        "                                        'segment_':'min',\n",
        "                                        'salary_level':'max',\n",
        "                                        'savings_sold':'sum',\n",
        "                                        'financing_sold':'sum',\n",
        "                                        'invesment_sold':'sum',\n",
        "                                        'account_type_sold':'sum',\n",
        "                                        'Segment Customer':'min'\n",
        "                                    })\n",
        "        sales_df[f\"{prod}_buy\"] = np.select(\n",
        "                                [sales_df[prod]<=0,\n",
        "                                sales_df[prod]>=0], [0,1])\n",
        "        sales_df = pd.get_dummies(sales_df, columns = ['Age_group', 'Segment Customer'], dtype=float)\n",
        "\n",
        "        # Split test and train datasets\n",
        "        print(f'Splitting train and test datasets...')\n",
        "        X=sales_df.drop(columns=[f\"{prod}_buy\",prod])\n",
        "        Y=sales_df[f\"{prod}_buy\"]\n",
        "\n",
        "        X_train, X_test, Y_train, Y_test = train_test_split(X, Y, test_size=0.30, random_state=42)\n",
        "\n",
        "        print(f'Training the model...')\n",
        "        # Train the model\n",
        "        gb = GradientBoostingClassifier(n_estimators=10, max_depth=7, min_samples_split=1000, random_state=42, max_features='sqrt')\n",
        "        gb.fit(\n",
        "            X=X_train, \n",
        "            y=np.ravel(Y_train)\n",
        "        )\n",
        "\n",
        "        top_features = pd.Series(gb.feature_importances_, index=X_train.columns).sort_values(ascending=False).head(20) \n",
        "        top_features_all.append(top_features)\n",
        "        plt.figure(figsize=(10,5))\n",
        "        top_features.plot(kind=\"bar\")\n",
        "\n",
        "        print(f'Evaluating over train dataset...')\n",
        "        # Evaluation over train dataset\n",
        "        Y_train_pred = pd.DataFrame(gb.predict(X_train), index=Y_train.index, columns=[f'{prod}_Prediction'])\n",
        "        y_train_pred_df = pd.DataFrame(Y_train_pred)\n",
        "        y_train_df = pd.DataFrame(Y_train)\n",
        "        results_df = pd.merge(y_train_pred_df, y_train_df, left_index=True, right_index=True)\n",
        "        results_df['Success'] = (results_df[f\"{prod}_buy\"] == results_df[f'{prod}_Prediction']).astype(int)\n",
        "\n",
        "        print('TRAIN - We have correctly predicted {} from a total of {}. The accuracy is {}.'.format(results_df['Success'].sum(), results_df['Success'].count(), round(results_df['Success'].mean(),5)))\n",
        "\n",
        "        pred_train = gb.predict(X_train)\n",
        "        confusion_matrix_m = metrics.confusion_matrix(Y_train,pred_train)\n",
        "        tn, fp, fn, tp = confusion_matrix_m.ravel()\n",
        "\n",
        "        Accuracy_m = metrics.accuracy_score(Y_train, pred_train)\n",
        "        Precision_m = metrics.precision_score(Y_train,pred_train)\n",
        "        Recall_m = metrics.recall_score(Y_train,pred_train)\n",
        "\n",
        "        print(\"Confusion matrix: \", confusion_matrix_m)\n",
        "        print(f\"TN = {tn} - FP = {fp} - FN = {fn} - TP = {tp}\")\n",
        "\n",
        "        print(\"Accuracy: \", round(Accuracy_m,5))\n",
        "        print(\"Precision: \", round(Precision_m,5))\n",
        "        print(\"Recall: \", round(Recall_m,5))\n",
        "\n",
        "        print(f'Evaluating over test dataset...')\n",
        "        # Evaluation over test dataset\n",
        "        Y_test_pred = pd.DataFrame(gb.predict(X_test), index=Y_test.index, columns=[f'{prod}_Prediction'])\n",
        "\n",
        "        Y_test_pred_df = pd.DataFrame(Y_test_pred)\n",
        "        Y_test_df = pd.DataFrame(Y_test)\n",
        "\n",
        "        results_test_df = pd.merge(Y_test_pred_df, Y_test_df, left_index=True, right_index=True)\n",
        "        results_test_df['Success'] = (results_test_df[f\"{prod}_buy\"] == results_test_df[f'{prod}_Prediction']).astype(int)\n",
        "\n",
        "        pred_test = gb.predict(X_test)\n",
        "        confusion_matrix_t = metrics.confusion_matrix(Y_test,pred_test)\n",
        "        tn, fp, fn, tp = confusion_matrix_t.ravel()\n",
        "\n",
        "        Accuracy_t = metrics.accuracy_score(Y_test, pred_test)\n",
        "        Precision_t = metrics.precision_score(Y_test,pred_test)\n",
        "        Recall_t = metrics.recall_score(Y_test,pred_test)\n",
        "\n",
        "        print(\"Confusion matrix: \", confusion_matrix_t)\n",
        "        print(f\"TN = {tn} - FP = {fp} - FN = {fn} - TP = {tp}\")\n",
        "\n",
        "        print(\"Accuracy: \", round(Accuracy_t,5))\n",
        "        print(\"Precision: \", round(Precision_t,5))\n",
        "        print(\"Recall: \", round(Recall_t,5))\n",
        "\n",
        "        Y_test_pred = pd.DataFrame({f'{prod}_Prediction' : gb.predict(X_test), \n",
        "                            f'{prod}_Score': gb.predict_proba(X_test)[:,1]},\n",
        "                            index=Y_test.index)\n",
        "        Y_test_pred_df = pd.DataFrame(Y_test_pred)\n",
        "        Y_test_df = pd.DataFrame(Y_test)\n",
        "        results_test_df = pd.merge(Y_test_pred_df, Y_test_df, left_index=True, right_index=True)\n",
        "        results_test_df['Success'] = (results_test_df[f\"{prod}_buy\"] == results_test_df[f'{prod}_Prediction']).astype(int)\n",
        "\n",
        "        fpr, tpr, _ = metrics.roc_curve(results_test_df[f\"{prod}_buy\"], results_test_df[f'{prod}_Score'])\n",
        "\n",
        "        plt.clf()\n",
        "        plt.plot(fpr, tpr)\n",
        "        plt.plot([0, 1], [0, 1], color='gray', linestyle='--')\n",
        "        plt.xlabel('False Positive Rate')\n",
        "        plt.ylabel('True Positive Rate')\n",
        "        plt.title('ROC curve')\n",
        "        plt.show()\n",
        "\n",
        "        print(f'Prediction for all segments...')\n",
        "        for seg in segments:\n",
        "            pred_=get_estimation_by_segment(\"Segment Customer_\"+seg,sales_df,gb,prod)\n",
        "            expected_sales.at[prod,seg]=pred_\n",
        "        \n",
        "        print(\"DONE \\n\")\n",
        "\n",
        "    return expected_sales , top_features_all"
      ]
    },
    {
      "cell_type": "markdown",
      "id": "41eec5da",
      "metadata": {},
      "source": [
        "### 1.1 Printing expected sales"
      ]
    },
    {
      "cell_type": "code",
      "execution_count": 72,
      "id": "5d419fa8",
      "metadata": {},
      "outputs": [
        {
          "name": "stdout",
          "output_type": "stream",
          "text": [
            "TRAINING SAVINGS_SOLD\n"
          ]
        },
        {
          "name": "stdout",
          "output_type": "stream",
          "text": [
            "Splitting train and test datasets...\n",
            "Training the model...\n",
            "Evaluating over train dataset...\n",
            "TRAIN - We have correctly predicted 307264 from a total of 319461. The accuracy is 0.96182.\n",
            "Confusion matrix:  [[289629   1647]\n",
            " [ 10550  17635]]\n",
            "TN = 289629 - FP = 1647 - FN = 10550 - TP = 17635\n",
            "Accuracy:  0.96182\n",
            "Precision:  0.91458\n",
            "Recall:  0.62569\n",
            "Evaluating over test dataset...\n",
            "Confusion matrix:  [[124074    659]\n",
            " [  4474   7705]]\n",
            "TN = 124074 - FP = 659 - FN = 4474 - TP = 7705\n",
            "Accuracy:  0.96251\n",
            "Precision:  0.92121\n",
            "Recall:  0.63265\n"
          ]
        },
        {
          "data": {
            "image/png": "[encoded data removed]",
            "text/plain": [
              "<Figure size 1000x500 with 1 Axes>"
            ]
          },
          "metadata": {},
          "output_type": "display_data"
        },
        {
          "name": "stdout",
          "output_type": "stream",
          "text": [
            "Prediction for all segments...\n",
            "DONE \n",
            "\n",
            "TRAINING FINANCING_SOLD\n",
            "Splitting train and test datasets...\n",
            "Training the model...\n",
            "Evaluating over train dataset...\n",
            "TRAIN - We have correctly predicted 319155 from a total of 319461. The accuracy is 0.99904.\n",
            "Confusion matrix:  [[316963     29]\n",
            " [   277   2192]]\n",
            "TN = 316963 - FP = 29 - FN = 277 - TP = 2192\n",
            "Accuracy:  0.99904\n",
            "Precision:  0.98694\n",
            "Recall:  0.88781\n",
            "Evaluating over test dataset...\n",
            "Confusion matrix:  [[135828     17]\n",
            " [   108    959]]\n",
            "TN = 135828 - FP = 17 - FN = 108 - TP = 959\n",
            "Accuracy:  0.99909\n",
            "Precision:  0.98258\n",
            "Recall:  0.89878\n"
          ]
        },
        {
          "data": {
            "image/png": "[encoded data removed]",
            "text/plain": [
              "<Figure size 1000x500 with 1 Axes>"
            ]
          },
          "metadata": {},
          "output_type": "display_data"
        },
        {
          "name": "stdout",
          "output_type": "stream",
          "text": [
            "Prediction for all segments...\n",
            "DONE \n",
            "\n",
            "TRAINING INVESMENT_SOLD\n",
            "Splitting train and test datasets...\n",
            "Training the model...\n",
            "Evaluating over train dataset...\n",
            "TRAIN - We have correctly predicted 313946 from a total of 319461. The accuracy is 0.98274.\n",
            "Confusion matrix:  [[313386    127]\n",
            " [  5388    560]]\n",
            "TN = 313386 - FP = 127 - FN = 5388 - TP = 560\n",
            "Accuracy:  0.98274\n",
            "Precision:  0.81514\n",
            "Recall:  0.09415\n",
            "Evaluating over test dataset...\n",
            "Confusion matrix:  [[134245     52]\n",
            " [  2369    246]]\n",
            "TN = 134245 - FP = 52 - FN = 2369 - TP = 246\n",
            "Accuracy:  0.98232\n",
            "Precision:  0.8255\n",
            "Recall:  0.09407\n"
          ]
        },
        {
          "data": {
            "image/png": "[encoded data removed]",
            "text/plain": [
              "<Figure size 1000x500 with 1 Axes>"
            ]
          },
          "metadata": {},
          "output_type": "display_data"
        },
        {
          "name": "stdout",
          "output_type": "stream",
          "text": [
            "Prediction for all segments...\n",
            "DONE \n",
            "\n",
            "TRAINING ACCOUNT_TYPE_SOLD\n",
            "Splitting train and test datasets...\n",
            "Training the model...\n",
            "Evaluating over train dataset...\n",
            "TRAIN - We have correctly predicted 259857 from a total of 319461. The accuracy is 0.81342.\n",
            "Confusion matrix:  [[ 23030  52274]\n",
            " [  7330 236827]]\n",
            "TN = 23030 - FP = 52274 - FN = 7330 - TP = 236827\n",
            "Accuracy:  0.81342\n",
            "Precision:  0.81918\n",
            "Recall:  0.96998\n",
            "Evaluating over test dataset...\n",
            "Confusion matrix:  [[  9883  22372]\n",
            " [  3183 101474]]\n",
            "TN = 9883 - FP = 22372 - FN = 3183 - TP = 101474\n",
            "Accuracy:  0.81335\n",
            "Precision:  0.81936\n",
            "Recall:  0.96959\n"
          ]
        },
        {
          "data": {
            "image/png": "[encoded data removed]",
            "text/plain": [
              "<Figure size 1000x500 with 1 Axes>"
            ]
          },
          "metadata": {},
          "output_type": "display_data"
        },
        {
          "name": "stdout",
          "output_type": "stream",
          "text": [
            "Prediction for all segments...\n",
            "DONE \n",
            "\n"
          ]
        }
      ],
      "source": [
        "expected_sales , top_features_all = train_models(recommentation_df,segments, prod_sales)"
      ]
    },
    {
      "cell_type": "code",
      "execution_count": 73,
      "id": "10c3c3c1",
      "metadata": {},
      "outputs": [
        {
          "data": {
            "text/html": [
              "<div>\n",
              "<style scoped>\n",
              "    .dataframe tbody tr th:only-of-type {\n",
              "        vertical-align: middle;\n",
              "    }\n",
              "\n",
              "    .dataframe tbody tr th {\n",
              "        vertical-align: top;\n",
              "    }\n",
              "\n",
              "    .dataframe thead th {\n",
              "        text-align: right;\n",
              "    }\n",
              "</style>\n",
              "<table border=\"1\" class=\"dataframe\">\n",
              "  <thead>\n",
              "    <tr style=\"text-align: right;\">\n",
              "      <th></th>\n",
              "      <th>Low Salary Universitario</th>\n",
              "      <th>High Salary Universitario</th>\n",
              "      <th>Buyer Universitario</th>\n",
              "      <th>Low Salary No Universitario</th>\n",
              "      <th>High Salary No Universitario</th>\n",
              "      <th>Saving Buyer No Universitario</th>\n",
              "      <th>Financing Buyer No Universitario</th>\n",
              "    </tr>\n",
              "  </thead>\n",
              "  <tbody>\n",
              "    <tr>\n",
              "      <th>savings_sold</th>\n",
              "      <td>0.0</td>\n",
              "      <td>0.0</td>\n",
              "      <td>6862.0</td>\n",
              "      <td>6.0</td>\n",
              "      <td>43.0</td>\n",
              "      <td>20652.0</td>\n",
              "      <td>83.0</td>\n",
              "    </tr>\n",
              "    <tr>\n",
              "      <th>financing_sold</th>\n",
              "      <td>3.0</td>\n",
              "      <td>1.0</td>\n",
              "      <td>24.0</td>\n",
              "      <td>0.0</td>\n",
              "      <td>0.0</td>\n",
              "      <td>21.0</td>\n",
              "      <td>3148.0</td>\n",
              "    </tr>\n",
              "    <tr>\n",
              "      <th>invesment_sold</th>\n",
              "      <td>0.0</td>\n",
              "      <td>0.0</td>\n",
              "      <td>19.0</td>\n",
              "      <td>0.0</td>\n",
              "      <td>0.0</td>\n",
              "      <td>966.0</td>\n",
              "      <td>0.0</td>\n",
              "    </tr>\n",
              "    <tr>\n",
              "      <th>account_type_sold</th>\n",
              "      <td>145546.0</td>\n",
              "      <td>54661.0</td>\n",
              "      <td>7176.0</td>\n",
              "      <td>140783.0</td>\n",
              "      <td>36953.0</td>\n",
              "      <td>24670.0</td>\n",
              "      <td>3158.0</td>\n",
              "    </tr>\n",
              "  </tbody>\n",
              "</table>\n",
              "</div>"
            ],
            "text/plain": [
              "                  Low Salary Universitario High Salary Universitario  \\\n",
              "savings_sold                           0.0                       0.0   \n",
              "financing_sold                         3.0                       1.0   \n",
              "invesment_sold                         0.0                       0.0   \n",
              "account_type_sold                 145546.0                   54661.0   \n",
              "\n",
              "                  Buyer Universitario Low Salary No Universitario  \\\n",
              "savings_sold                   6862.0                         6.0   \n",
              "financing_sold                   24.0                         0.0   \n",
              "invesment_sold                   19.0                         0.0   \n",
              "account_type_sold              7176.0                    140783.0   \n",
              "\n",
              "                  High Salary No Universitario Saving Buyer No Universitario  \\\n",
              "savings_sold                              43.0                       20652.0   \n",
              "financing_sold                             0.0                          21.0   \n",
              "invesment_sold                             0.0                         966.0   \n",
              "account_type_sold                      36953.0                       24670.0   \n",
              "\n",
              "                  Financing Buyer No Universitario  \n",
              "savings_sold                                  83.0  \n",
              "financing_sold                              3148.0  \n",
              "invesment_sold                                 0.0  \n",
              "account_type_sold                           3158.0  "
            ]
          },
          "execution_count": 73,
          "metadata": {},
          "output_type": "execute_result"
        }
      ],
      "source": [
        "expected_sales"
      ]
    },
    {
      "cell_type": "markdown",
      "id": "610befce",
      "metadata": {},
      "source": [
        "Above one can see the estimation of saves for eac hproduct type and segment group."
      ]
    },
    {
      "cell_type": "markdown",
      "id": "da97a092",
      "metadata": {},
      "source": [
        "Below there are the plots that shown the importance of each feature on each model, Saving Products, Financing Products, Investment Products and Account type Products."
      ]
    },
    {
      "cell_type": "markdown",
      "id": "36fa30c6",
      "metadata": {},
      "source": [
        "**SAVING PRODUCTS**"
      ]
    },
    {
      "cell_type": "code",
      "execution_count": 74,
      "id": "477968e4",
      "metadata": {},
      "outputs": [
        {
          "data": {
            "text/plain": [
              "<Axes: >"
            ]
          },
          "execution_count": 74,
          "metadata": {},
          "output_type": "execute_result"
        },
        {
          "data": {
            "image/png": "[encoded data removed]",
            "text/plain": [
              "<Figure size 1000x500 with 1 Axes>"
            ]
          },
          "metadata": {},
          "output_type": "display_data"
        }
      ],
      "source": [
        "plt.figure(figsize=(10,5))\n",
        "top_features_all[0].plot(kind=\"bar\")"
      ]
    },
    {
      "cell_type": "markdown",
      "id": "e76c9eb8",
      "metadata": {},
      "source": [
        "**FINANCING PRODUCTS**"
      ]
    },
    {
      "cell_type": "code",
      "execution_count": 75,
      "id": "5440f200",
      "metadata": {},
      "outputs": [
        {
          "data": {
            "text/plain": [
              "<Axes: >"
            ]
          },
          "execution_count": 75,
          "metadata": {},
          "output_type": "execute_result"
        },
        {
          "data": {
            "image/png": "[encoded data removed]",
            "text/plain": [
              "<Figure size 1000x500 with 1 Axes>"
            ]
          },
          "metadata": {},
          "output_type": "display_data"
        }
      ],
      "source": [
        "plt.figure(figsize=(10,5))\n",
        "top_features_all[1].plot(kind=\"bar\")"
      ]
    },
    {
      "cell_type": "markdown",
      "id": "0576f2af",
      "metadata": {},
      "source": [
        "**INVESTMENT PRODUCTS**"
      ]
    },
    {
      "cell_type": "code",
      "execution_count": 76,
      "id": "d9dd6b74",
      "metadata": {},
      "outputs": [
        {
          "data": {
            "text/plain": [
              "<Axes: >"
            ]
          },
          "execution_count": 76,
          "metadata": {},
          "output_type": "execute_result"
        },
        {
          "data": {
            "image/png": "[encoded data removed]",
            "text/plain": [
              "<Figure size 1000x500 with 1 Axes>"
            ]
          },
          "metadata": {},
          "output_type": "display_data"
        }
      ],
      "source": [
        "plt.figure(figsize=(10,5))\n",
        "top_features_all[2].plot(kind=\"bar\")"
      ]
    },
    {
      "cell_type": "markdown",
      "id": "5a39cdaf",
      "metadata": {},
      "source": [
        "**ACCOUNT TYPE PRODUCTS**"
      ]
    },
    {
      "cell_type": "code",
      "execution_count": 77,
      "id": "dc7f8ae8",
      "metadata": {},
      "outputs": [
        {
          "data": {
            "text/plain": [
              "<Axes: >"
            ]
          },
          "execution_count": 77,
          "metadata": {},
          "output_type": "execute_result"
        },
        {
          "data": {
            "image/png": "[encoded data removed]",
            "text/plain": [
              "<Figure size 1000x500 with 1 Axes>"
            ]
          },
          "metadata": {},
          "output_type": "display_data"
        }
      ],
      "source": [
        "plt.figure(figsize=(10,5))\n",
        "top_features_all[3].plot(kind=\"bar\")"
      ]
    },
    {
      "cell_type": "code",
      "execution_count": 38,
      "id": "0313304c",
      "metadata": {},
      "outputs": [],
      "source": [
        "prod_sales_=prod_sales\n",
        "prod_sales_.append(\"Segment total\")\n",
        "segments_=segments\n",
        "segments_.append(\"Product total\")"
      ]
    },
    {
      "cell_type": "markdown",
      "id": "9d60ee5f",
      "metadata": {},
      "source": [
        "### 1.2 Printing expected revenues"
      ]
    },
    {
      "cell_type": "markdown",
      "id": "474f3d34",
      "metadata": {},
      "source": [
        "Let's then to join all the information, compiling the sales expectation with the revenues to calculate the expected revenues."
      ]
    },
    {
      "cell_type": "code",
      "execution_count": 39,
      "id": "7db23c20",
      "metadata": {},
      "outputs": [
        {
          "data": {
            "text/html": [
              "<div>\n",
              "<style scoped>\n",
              "    .dataframe tbody tr th:only-of-type {\n",
              "        vertical-align: middle;\n",
              "    }\n",
              "\n",
              "    .dataframe tbody tr th {\n",
              "        vertical-align: top;\n",
              "    }\n",
              "\n",
              "    .dataframe thead th {\n",
              "        text-align: right;\n",
              "    }\n",
              "</style>\n",
              "<table border=\"1\" class=\"dataframe\">\n",
              "  <thead>\n",
              "    <tr style=\"text-align: right;\">\n",
              "      <th></th>\n",
              "      <th>Low Salary Universitario</th>\n",
              "      <th>High Salary Universitario</th>\n",
              "      <th>Buyer Universitario</th>\n",
              "      <th>Low Salary No Universitario</th>\n",
              "      <th>High Salary No Universitario</th>\n",
              "      <th>Saving Buyer No Universitario</th>\n",
              "      <th>Financing Buyer No Universitario</th>\n",
              "      <th>Product total</th>\n",
              "    </tr>\n",
              "  </thead>\n",
              "  <tbody>\n",
              "    <tr>\n",
              "      <th>savings_sold</th>\n",
              "      <td>0.0</td>\n",
              "      <td>0.0</td>\n",
              "      <td>274480.0</td>\n",
              "      <td>240.0</td>\n",
              "      <td>1720.0</td>\n",
              "      <td>826080.0</td>\n",
              "      <td>3320.0</td>\n",
              "      <td>1105840.0</td>\n",
              "    </tr>\n",
              "    <tr>\n",
              "      <th>financing_sold</th>\n",
              "      <td>180.0</td>\n",
              "      <td>60.0</td>\n",
              "      <td>1440.0</td>\n",
              "      <td>0.0</td>\n",
              "      <td>0.0</td>\n",
              "      <td>1260.0</td>\n",
              "      <td>188880.0</td>\n",
              "      <td>191820.0</td>\n",
              "    </tr>\n",
              "    <tr>\n",
              "      <th>invesment_sold</th>\n",
              "      <td>0.0</td>\n",
              "      <td>0.0</td>\n",
              "      <td>760.0</td>\n",
              "      <td>0.0</td>\n",
              "      <td>0.0</td>\n",
              "      <td>38640.0</td>\n",
              "      <td>0.0</td>\n",
              "      <td>39400.0</td>\n",
              "    </tr>\n",
              "    <tr>\n",
              "      <th>account_type_sold</th>\n",
              "      <td>1455460.0</td>\n",
              "      <td>546610.0</td>\n",
              "      <td>71760.0</td>\n",
              "      <td>1407830.0</td>\n",
              "      <td>369530.0</td>\n",
              "      <td>246700.0</td>\n",
              "      <td>31580.0</td>\n",
              "      <td>4129470.0</td>\n",
              "    </tr>\n",
              "    <tr>\n",
              "      <th>Segment total</th>\n",
              "      <td>1455640.0</td>\n",
              "      <td>546670.0</td>\n",
              "      <td>348440.0</td>\n",
              "      <td>1408070.0</td>\n",
              "      <td>371250.0</td>\n",
              "      <td>1112680.0</td>\n",
              "      <td>223780.0</td>\n",
              "      <td>5466530.0</td>\n",
              "    </tr>\n",
              "  </tbody>\n",
              "</table>\n",
              "</div>"
            ],
            "text/plain": [
              "                  Low Salary Universitario High Salary Universitario  \\\n",
              "savings_sold                           0.0                       0.0   \n",
              "financing_sold                       180.0                      60.0   \n",
              "invesment_sold                         0.0                       0.0   \n",
              "account_type_sold                1455460.0                  546610.0   \n",
              "Segment total                    1455640.0                  546670.0   \n",
              "\n",
              "                  Buyer Universitario Low Salary No Universitario  \\\n",
              "savings_sold                 274480.0                       240.0   \n",
              "financing_sold                 1440.0                         0.0   \n",
              "invesment_sold                  760.0                         0.0   \n",
              "account_type_sold             71760.0                   1407830.0   \n",
              "Segment total                348440.0                   1408070.0   \n",
              "\n",
              "                  High Salary No Universitario Saving Buyer No Universitario  \\\n",
              "savings_sold                            1720.0                      826080.0   \n",
              "financing_sold                             0.0                        1260.0   \n",
              "invesment_sold                             0.0                       38640.0   \n",
              "account_type_sold                     369530.0                      246700.0   \n",
              "Segment total                         371250.0                     1112680.0   \n",
              "\n",
              "                  Financing Buyer No Universitario Product total  \n",
              "savings_sold                                3320.0     1105840.0  \n",
              "financing_sold                            188880.0      191820.0  \n",
              "invesment_sold                                 0.0       39400.0  \n",
              "account_type_sold                          31580.0     4129470.0  \n",
              "Segment total                             223780.0     5466530.0  "
            ]
          },
          "execution_count": 39,
          "metadata": {},
          "output_type": "execute_result"
        }
      ],
      "source": [
        "expected_revenues=pd.DataFrame(index=prod_sales_, columns=segments_)\n",
        "for prd_ in segments_:\n",
        "    if prd_ != \"Product total\":\n",
        "        expected_revenues.at[\"savings_sold\",prd_] = revenues.at[\"Savings\",\"Revenue\"] * expected_sales.at[\"savings_sold\",prd_]\n",
        "        expected_revenues.at[\"financing_sold\",prd_] = revenues.at[\"Financing\",\"Revenue\"] * expected_sales.at[\"financing_sold\",prd_]\n",
        "        expected_revenues.at[\"invesment_sold\",prd_] = revenues.at[\"Investment\",\"Revenue\"] * expected_sales.at[\"invesment_sold\",prd_]\n",
        "        expected_revenues.at[\"account_type_sold\",prd_] = revenues.at[\"Account Type\",\"Revenue\"] * expected_sales.at[\"account_type_sold\",prd_]\n",
        "        expected_revenues.at[\"Segment total\",prd_] = expected_revenues[prd_].sum()\n",
        "\n",
        "expected_revenues[\"Product total\"] = expected_revenues[segments].sum(axis=1)\n",
        "expected_revenues"
      ]
    },
    {
      "cell_type": "code",
      "execution_count": 40,
      "id": "0e0e1c05",
      "metadata": {},
      "outputs": [
        {
          "name": "stdout",
          "output_type": "stream",
          "text": [
            "456373\n"
          ]
        }
      ],
      "source": [
        "n_total=len(recommentation_sales_df[[\"pk_cid\"]].groupby(\"pk_cid\"))\n",
        "n_low_uni=len(recommentation_sales_df[recommentation_sales_df[\"Segment Customer\"]==\"Low Salary Universitario\"][[\"pk_cid\"]].groupby(\"pk_cid\"))\n",
        "n_hig_uni=len(recommentation_sales_df[recommentation_sales_df[\"Segment Customer\"]==\"High Salary Universitario\"][[\"pk_cid\"]].groupby(\"pk_cid\"))\n",
        "n_buy_uni=len(recommentation_sales_df[recommentation_sales_df[\"Segment Customer\"]==\"Buyer Universitario\"][[\"pk_cid\"]].groupby(\"pk_cid\"))\n",
        "n_low_nuni=len(recommentation_sales_df[recommentation_sales_df[\"Segment Customer\"]==\"Low Salary No Universitario\"][[\"pk_cid\"]].groupby(\"pk_cid\"))\n",
        "n_hig_nuni=len(recommentation_sales_df[recommentation_sales_df[\"Segment Customer\"]==\"High Salary No Universitario\"][[\"pk_cid\"]].groupby(\"pk_cid\"))\n",
        "n_sav_nuni=len(recommentation_sales_df[recommentation_sales_df[\"Segment Customer\"]==\"Saving Buyer No Universitario\"][[\"pk_cid\"]].groupby(\"pk_cid\"))\n",
        "n_fin_nuni=len(recommentation_sales_df[recommentation_sales_df[\"Segment Customer\"]==\"Financing Buyer No Universitario\"][[\"pk_cid\"]].groupby(\"pk_cid\"))\n",
        "print(n_low_uni+n_hig_uni+n_buy_uni+n_low_nuni+n_hig_nuni+n_sav_nuni+n_fin_nuni)"
      ]
    },
    {
      "cell_type": "markdown",
      "id": "834a9d38",
      "metadata": {},
      "source": [
        "### 1.3 Printing expected response rate"
      ]
    },
    {
      "cell_type": "code",
      "execution_count": 78,
      "id": "73e1b769",
      "metadata": {},
      "outputs": [
        {
          "data": {
            "text/html": [
              "<div>\n",
              "<style scoped>\n",
              "    .dataframe tbody tr th:only-of-type {\n",
              "        vertical-align: middle;\n",
              "    }\n",
              "\n",
              "    .dataframe tbody tr th {\n",
              "        vertical-align: top;\n",
              "    }\n",
              "\n",
              "    .dataframe thead th {\n",
              "        text-align: right;\n",
              "    }\n",
              "</style>\n",
              "<table border=\"1\" class=\"dataframe\">\n",
              "  <thead>\n",
              "    <tr style=\"text-align: right;\">\n",
              "      <th></th>\n",
              "      <th>Low Salary Universitario</th>\n",
              "      <th>High Salary Universitario</th>\n",
              "      <th>Buyer Universitario</th>\n",
              "      <th>Low Salary No Universitario</th>\n",
              "      <th>High Salary No Universitario</th>\n",
              "      <th>Saving Buyer No Universitario</th>\n",
              "      <th>Financing Buyer No Universitario</th>\n",
              "    </tr>\n",
              "  </thead>\n",
              "  <tbody>\n",
              "    <tr>\n",
              "      <th>savings_sold</th>\n",
              "      <td>0.0</td>\n",
              "      <td>0.0</td>\n",
              "      <td>0.956243</td>\n",
              "      <td>0.000033</td>\n",
              "      <td>0.001101</td>\n",
              "      <td>0.83696</td>\n",
              "      <td>0.026282</td>\n",
              "    </tr>\n",
              "    <tr>\n",
              "      <th>financing_sold</th>\n",
              "      <td>0.000021</td>\n",
              "      <td>0.000018</td>\n",
              "      <td>0.003344</td>\n",
              "      <td>0.0</td>\n",
              "      <td>0.0</td>\n",
              "      <td>0.000851</td>\n",
              "      <td>0.996833</td>\n",
              "    </tr>\n",
              "    <tr>\n",
              "      <th>invesment_sold</th>\n",
              "      <td>0.0</td>\n",
              "      <td>0.0</td>\n",
              "      <td>0.002648</td>\n",
              "      <td>0.0</td>\n",
              "      <td>0.0</td>\n",
              "      <td>0.039149</td>\n",
              "      <td>0.0</td>\n",
              "    </tr>\n",
              "    <tr>\n",
              "      <th>account_type_sold</th>\n",
              "      <td>1.0</td>\n",
              "      <td>1.0</td>\n",
              "      <td>1.0</td>\n",
              "      <td>0.773061</td>\n",
              "      <td>0.946397</td>\n",
              "      <td>0.999797</td>\n",
              "      <td>1.0</td>\n",
              "    </tr>\n",
              "    <tr>\n",
              "      <th>Segment total</th>\n",
              "      <td>NaN</td>\n",
              "      <td>NaN</td>\n",
              "      <td>NaN</td>\n",
              "      <td>NaN</td>\n",
              "      <td>NaN</td>\n",
              "      <td>NaN</td>\n",
              "      <td>NaN</td>\n",
              "    </tr>\n",
              "  </tbody>\n",
              "</table>\n",
              "</div>"
            ],
            "text/plain": [
              "                  Low Salary Universitario High Salary Universitario  \\\n",
              "savings_sold                           0.0                       0.0   \n",
              "financing_sold                    0.000021                  0.000018   \n",
              "invesment_sold                         0.0                       0.0   \n",
              "account_type_sold                      1.0                       1.0   \n",
              "Segment total                          NaN                       NaN   \n",
              "\n",
              "                  Buyer Universitario Low Salary No Universitario  \\\n",
              "savings_sold                 0.956243                    0.000033   \n",
              "financing_sold               0.003344                         0.0   \n",
              "invesment_sold               0.002648                         0.0   \n",
              "account_type_sold                 1.0                    0.773061   \n",
              "Segment total                     NaN                         NaN   \n",
              "\n",
              "                  High Salary No Universitario Saving Buyer No Universitario  \\\n",
              "savings_sold                          0.001101                       0.83696   \n",
              "financing_sold                             0.0                      0.000851   \n",
              "invesment_sold                             0.0                      0.039149   \n",
              "account_type_sold                     0.946397                      0.999797   \n",
              "Segment total                              NaN                           NaN   \n",
              "\n",
              "                  Financing Buyer No Universitario  \n",
              "savings_sold                              0.026282  \n",
              "financing_sold                            0.996833  \n",
              "invesment_sold                                 0.0  \n",
              "account_type_sold                              1.0  \n",
              "Segment total                                  NaN  "
            ]
          },
          "execution_count": 78,
          "metadata": {},
          "output_type": "execute_result"
        }
      ],
      "source": [
        "segments=[\"Low Salary Universitario\", \"High Salary Universitario\", \"Buyer Universitario\",\n",
        "                      \"Low Salary No Universitario\", \"High Salary No Universitario\", \"Saving Buyer No Universitario\", \"Financing Buyer No Universitario\"]\n",
        "prod_sales=['savings_sold', 'financing_sold', 'invesment_sold', 'account_type_sold']\n",
        "expected_response_rate=pd.DataFrame(index=prod_sales_, columns=segments)\n",
        "for prd_ in prod_sales:\n",
        "        expected_response_rate.at[prd_,\"Low Salary Universitario\"] = expected_sales.at[prd_,\"Low Salary Universitario\"] / n_low_uni\n",
        "        expected_response_rate.at[prd_,\"High Salary Universitario\"] = expected_sales.at[prd_,\"High Salary Universitario\"] / n_hig_uni\n",
        "        expected_response_rate.at[prd_,\"Buyer Universitario\"] = expected_sales.at[prd_,\"Buyer Universitario\"] / n_buy_uni\n",
        "        expected_response_rate.at[prd_,\"Low Salary No Universitario\"] = expected_sales.at[prd_,\"Low Salary No Universitario\"] / n_low_nuni\n",
        "        expected_response_rate.at[prd_,\"High Salary No Universitario\"] = expected_sales.at[prd_,\"High Salary No Universitario\"] / n_hig_nuni\n",
        "        expected_response_rate.at[prd_,\"Saving Buyer No Universitario\"] = expected_sales.at[prd_,\"Saving Buyer No Universitario\"] / n_sav_nuni\n",
        "        expected_response_rate.at[prd_,\"Financing Buyer No Universitario\"] = expected_sales.at[prd_,\"Financing Buyer No Universitario\"] / n_fin_nuni\n",
        "\n",
        "expected_response_rate"
      ]
    },
    {
      "cell_type": "markdown",
      "id": "e3943f0f",
      "metadata": {},
      "source": [
        "According our model, one can say that practically all the segments have a 100% positive response for all customers. The only exception is the *Low Salary No Universitario* Segment.\n",
        "Regarding the remaining products, *Low* and *High Salary Universitario* segments won't have a positive response, as well as the *Low* and *High Salary No Universitario* segments.\n",
        "Also 96% of *Buyer Universitario* and 84% of *Saving Buyer No Universitario* are expected to have a positive response to saving products. The high rate for financing products is also in that last segment.\n",
        "The *Financing Buyer No Universitario* are expected to have almost 100% of positive response."
      ]
    },
    {
      "cell_type": "markdown",
      "id": "f7e266d9",
      "metadata": {},
      "source": [
        "### 1.3 Linear Programming to choose the recommendation customers based on revenue maximization"
      ]
    },
    {
      "cell_type": "code",
      "execution_count": 84,
      "id": "54ff82df",
      "metadata": {},
      "outputs": [],
      "source": [
        "from scipy.optimize import linprog"
      ]
    },
    {
      "cell_type": "code",
      "execution_count": 87,
      "id": "1e22d98e",
      "metadata": {},
      "outputs": [],
      "source": [
        "obj = [-(expected_response_rate.loc[\"savings_sold\",\"Low Salary Universitario\"]*revenues.loc[\"Savings\",\"Revenue\"]+expected_response_rate.loc[\"financing_sold\",\"Low Salary Universitario\"]*revenues.loc[\"Financing\",\"Revenue\"]+\n",
        "                                   expected_response_rate.loc[\"invesment_sold\",\"Low Salary Universitario\"]*revenues.loc[\"Investment\",\"Revenue\"]+expected_response_rate.loc[\"account_type_sold\",\"Low Salary Universitario\"]*revenues.loc[\"Account Type\",\"Revenue\"]), \n",
        "       -(expected_response_rate.loc[\"savings_sold\",\"High Salary Universitario\"]*revenues.loc[\"Savings\",\"Revenue\"]+expected_response_rate.loc[\"financing_sold\",\"High Salary Universitario\"]*revenues.loc[\"Financing\",\"Revenue\"]+\n",
        "                                   expected_response_rate.loc[\"invesment_sold\",\"High Salary Universitario\"]*revenues.loc[\"Investment\",\"Revenue\"]+expected_response_rate.loc[\"account_type_sold\",\"High Salary Universitario\"]*revenues.loc[\"Account Type\",\"Revenue\"]), \n",
        "       -(expected_response_rate.loc[\"savings_sold\",\"Buyer Universitario\"]*revenues.loc[\"Savings\",\"Revenue\"]+expected_response_rate.loc[\"financing_sold\",\"Buyer Universitario\"]*revenues.loc[\"Financing\",\"Revenue\"]+\n",
        "                                   expected_response_rate.loc[\"invesment_sold\",\"Buyer Universitario\"]*revenues.loc[\"Investment\",\"Revenue\"]+expected_response_rate.loc[\"account_type_sold\",\"Buyer Universitario\"]*revenues.loc[\"Account Type\",\"Revenue\"]), \n",
        "       -(expected_response_rate.loc[\"savings_sold\",\"Low Salary No Universitario\"]*revenues.loc[\"Savings\",\"Revenue\"]+expected_response_rate.loc[\"financing_sold\",\"Low Salary No Universitario\"]*revenues.loc[\"Financing\",\"Revenue\"]+\n",
        "                                   expected_response_rate.loc[\"invesment_sold\",\"Low Salary No Universitario\"]*revenues.loc[\"Investment\",\"Revenue\"]+expected_response_rate.loc[\"account_type_sold\",\"Low Salary No Universitario\"]*revenues.loc[\"Account Type\",\"Revenue\"]), \n",
        "       -(expected_response_rate.loc[\"savings_sold\",\"High Salary No Universitario\"]*revenues.loc[\"Savings\",\"Revenue\"]+expected_response_rate.loc[\"financing_sold\",\"High Salary No Universitario\"]*revenues.loc[\"Financing\",\"Revenue\"]+\n",
        "                                   expected_response_rate.loc[\"invesment_sold\",\"High Salary No Universitario\"]*revenues.loc[\"Investment\",\"Revenue\"]+expected_response_rate.loc[\"account_type_sold\",\"High Salary No Universitario\"]*revenues.loc[\"Account Type\",\"Revenue\"]), \n",
        "       -(expected_response_rate.loc[\"savings_sold\",\"Saving Buyer No Universitario\"]*revenues.loc[\"Savings\",\"Revenue\"]+expected_response_rate.loc[\"financing_sold\",\"Saving Buyer No Universitario\"]*revenues.loc[\"Financing\",\"Revenue\"]+\n",
        "                                   expected_response_rate.loc[\"invesment_sold\",\"Saving Buyer No Universitario\"]*revenues.loc[\"Investment\",\"Revenue\"]+expected_response_rate.loc[\"account_type_sold\",\"Financing Buyer No Universitario\"]*revenues.loc[\"Account Type\",\"Revenue\"]),  \n",
        "       -(expected_response_rate.loc[\"savings_sold\",\"Financing Buyer No Universitario\"]*revenues.loc[\"Savings\",\"Revenue\"]+expected_response_rate.loc[\"financing_sold\",\"Financing Buyer No Universitario\"]*revenues.loc[\"Financing\",\"Revenue\"]+\n",
        "                                   expected_response_rate.loc[\"invesment_sold\",\"Financing Buyer No Universitario\"]*revenues.loc[\"Investment\",\"Revenue\"]+expected_response_rate.loc[\"account_type_sold\",\"Financing Buyer No Universitario\"]*revenues.loc[\"Account Type\",\"Revenue\"])]\n",
        "\n",
        "lhs_eq = [[ 1, 1, 1, 1, 1, 1, 1],  # 1st equation lft side\n",
        "            ] \n",
        "\n",
        "rhs_eq = [[10000]\n",
        "            ] \n",
        "\n",
        "bnd = [(0, n_low_uni), \n",
        "       (0, n_hig_uni),\n",
        "       (0, n_buy_uni),\n",
        "       (0, n_low_nuni),\n",
        "       (0, n_hig_uni),\n",
        "       (0, n_sav_nuni),\n",
        "       (0, n_fin_nuni)\n",
        "       ]  "
      ]
    },
    {
      "cell_type": "code",
      "execution_count": 86,
      "id": "e5edd410",
      "metadata": {},
      "outputs": [
        {
          "data": {
            "text/plain": [
              " message: Optimization terminated successfully.\n",
              " success: True\n",
              "  status: 0\n",
              "     fun: -556002.1962095875\n",
              "       x: [ 0.000e+00  0.000e+00  6.842e+03  0.000e+00  0.000e+00\n",
              "            0.000e+00  3.158e+03]\n",
              "     nit: 3"
            ]
          },
          "execution_count": 86,
          "metadata": {},
          "output_type": "execute_result"
        }
      ],
      "source": [
        "opt = linprog(c=obj, A_eq=lhs_eq, b_eq=rhs_eq,\n",
        "               bounds=bnd, method=\"revised simplex\")\n",
        "opt"
      ]
    },
    {
      "cell_type": "markdown",
      "id": "9184ccad",
      "metadata": {},
      "source": [
        "According to the results, we should choose the 3158 *Financing Buyer No Universitario* customers and the remaining 6842 to *Buyer Universitario*, to send the emails. \n",
        "To choose the *Buyer Universitario*, we should rank and prioritize the customers that tend to buys more saving products, as shown below:"
      ]
    },
    {
      "cell_type": "code",
      "execution_count": 91,
      "id": "b9d9d63b",
      "metadata": {},
      "outputs": [
        {
          "data": {
            "text/html": [
              "<div>\n",
              "<style scoped>\n",
              "    .dataframe tbody tr th:only-of-type {\n",
              "        vertical-align: middle;\n",
              "    }\n",
              "\n",
              "    .dataframe tbody tr th {\n",
              "        vertical-align: top;\n",
              "    }\n",
              "\n",
              "    .dataframe thead th {\n",
              "        text-align: right;\n",
              "    }\n",
              "</style>\n",
              "<table border=\"1\" class=\"dataframe\">\n",
              "  <thead>\n",
              "    <tr style=\"text-align: right;\">\n",
              "      <th></th>\n",
              "      <th>savings_sold</th>\n",
              "      <th>financing_sold</th>\n",
              "      <th>account_type_sold</th>\n",
              "      <th>invesment_sold</th>\n",
              "    </tr>\n",
              "    <tr>\n",
              "      <th>pk_cid</th>\n",
              "      <th></th>\n",
              "      <th></th>\n",
              "      <th></th>\n",
              "      <th></th>\n",
              "    </tr>\n",
              "  </thead>\n",
              "  <tbody>\n",
              "    <tr>\n",
              "      <th>1014463</th>\n",
              "      <td>7</td>\n",
              "      <td>0</td>\n",
              "      <td>17</td>\n",
              "      <td>1</td>\n",
              "    </tr>\n",
              "    <tr>\n",
              "      <th>1018802</th>\n",
              "      <td>6</td>\n",
              "      <td>0</td>\n",
              "      <td>8</td>\n",
              "      <td>0</td>\n",
              "    </tr>\n",
              "    <tr>\n",
              "      <th>1116714</th>\n",
              "      <td>6</td>\n",
              "      <td>0</td>\n",
              "      <td>9</td>\n",
              "      <td>0</td>\n",
              "    </tr>\n",
              "    <tr>\n",
              "      <th>1044960</th>\n",
              "      <td>6</td>\n",
              "      <td>0</td>\n",
              "      <td>7</td>\n",
              "      <td>0</td>\n",
              "    </tr>\n",
              "    <tr>\n",
              "      <th>1173010</th>\n",
              "      <td>6</td>\n",
              "      <td>0</td>\n",
              "      <td>8</td>\n",
              "      <td>0</td>\n",
              "    </tr>\n",
              "    <tr>\n",
              "      <th>...</th>\n",
              "      <td>...</td>\n",
              "      <td>...</td>\n",
              "      <td>...</td>\n",
              "      <td>...</td>\n",
              "    </tr>\n",
              "    <tr>\n",
              "      <th>1016901</th>\n",
              "      <td>0</td>\n",
              "      <td>0</td>\n",
              "      <td>10</td>\n",
              "      <td>1</td>\n",
              "    </tr>\n",
              "    <tr>\n",
              "      <th>1131507</th>\n",
              "      <td>0</td>\n",
              "      <td>0</td>\n",
              "      <td>7</td>\n",
              "      <td>0</td>\n",
              "    </tr>\n",
              "    <tr>\n",
              "      <th>1097624</th>\n",
              "      <td>0</td>\n",
              "      <td>0</td>\n",
              "      <td>3</td>\n",
              "      <td>3</td>\n",
              "    </tr>\n",
              "    <tr>\n",
              "      <th>1114755</th>\n",
              "      <td>0</td>\n",
              "      <td>0</td>\n",
              "      <td>3</td>\n",
              "      <td>3</td>\n",
              "    </tr>\n",
              "    <tr>\n",
              "      <th>1023135</th>\n",
              "      <td>0</td>\n",
              "      <td>0</td>\n",
              "      <td>2</td>\n",
              "      <td>2</td>\n",
              "    </tr>\n",
              "  </tbody>\n",
              "</table>\n",
              "<p>7176 rows × 4 columns</p>\n",
              "</div>"
            ],
            "text/plain": [
              "         savings_sold  financing_sold  account_type_sold  invesment_sold\n",
              "pk_cid                                                                  \n",
              "1014463             7               0                 17               1\n",
              "1018802             6               0                  8               0\n",
              "1116714             6               0                  9               0\n",
              "1044960             6               0                  7               0\n",
              "1173010             6               0                  8               0\n",
              "...               ...             ...                ...             ...\n",
              "1016901             0               0                 10               1\n",
              "1131507             0               0                  7               0\n",
              "1097624             0               0                  3               3\n",
              "1114755             0               0                  3               3\n",
              "1023135             0               0                  2               2\n",
              "\n",
              "[7176 rows x 4 columns]"
            ]
          },
          "execution_count": 91,
          "metadata": {},
          "output_type": "execute_result"
        }
      ],
      "source": [
        "recommentation_sales_df[recommentation_sales_df[\"Segment Customer\"]==\"Buyer Universitario\"][[\"pk_cid\",\"savings_sold\",\"financing_sold\",\"account_type_sold\",\"invesment_sold\"]].groupby(\"pk_cid\").sum().sort_values(by=\"savings_sold\",ascending=False)"
      ]
    },
    {
      "cell_type": "markdown",
      "id": "122b0c4c",
      "metadata": {},
      "source": [
        "__________________\n",
        "# C. CONCLUSIONS\n",
        "__________________"
      ]
    },
    {
      "cell_type": "markdown",
      "id": "a7fdbc2d",
      "metadata": {},
      "source": [
        "According to our model, and to maximize the potencial revenue, we can conclude that we should sent 3158 email to *Financing Buyer No Universitario* customers and the remaining 6842 to *Buyer Universitario*."
      ]
    }
  ],
  "metadata": {
    "kernelspec": {
      "display_name": "Python 3",
      "language": "python",
      "name": "python3"
    },
    "language_info": {
      "codemirror_mode": {
        "name": "ipython",
        "version": 3
      },
      "file_extension": ".py",
      "mimetype": "text/x-python",
      "name": "python",
      "nbconvert_exporter": "python",
      "pygments_lexer": "ipython3",
      "version": "3.11.5"
    }
  },
  "nbformat": 4,
  "nbformat_minor": 5
}
